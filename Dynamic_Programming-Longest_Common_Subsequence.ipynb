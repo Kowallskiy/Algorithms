{
 "cells": [
  {
   "cell_type": "markdown",
   "metadata": {},
   "source": [
    "## Dynamic Programming"
   ]
  },
  {
   "cell_type": "markdown",
   "metadata": {},
   "source": [
    "### Longest Common List"
   ]
  },
  {
   "attachments": {
    "subsequence.jpg": {
     "image/jpeg": "[encoded data removed]"
    }
   },
   "cell_type": "markdown",
   "metadata": {},
   "source": [
    "__Question__: Write a function to find the length of the __longest common subsequence__ between two sequences. E.g. Given the strings \"serendipitous\" and \"precipitation\", the longest common subsequence is \"reipito\" and its length is 7.\n",
    "\n",
    "A \"sequence\" is a group of items with a deterministic ordering. Lists, tuples and ranges are some common sequence types in Python.\n",
    "\n",
    "A \"subsequence\" is a sequence obtained by deleting zero or more elements from another sequence. For example, \"edpt\" is a subsequence of \"serendipitous\".\n",
    "\n",
    "![subsequence.jpg](attachment:subsequence.jpg)"
   ]
  },
  {
   "cell_type": "code",
   "execution_count": 6,
   "metadata": {},
   "outputs": [],
   "source": [
    "tests = []\n",
    "\n",
    "tests.append({\n",
    "    'input': {\n",
    "        'seq1': 'serendipitous',\n",
    "        'seq2': 'precipitation'\n",
    "    },\n",
    "    'output': 7\n",
    "})\n",
    "\n",
    "tests.append({\n",
    "    'input': {\n",
    "        'seq1': 'dsrwfcad',\n",
    "        'seq2': 'juiokmnj'\n",
    "    },\n",
    "    'output': 0\n",
    "})\n",
    "\n",
    "tests.append({\n",
    "    'input': {\n",
    "        'seq1': '',\n",
    "        'seq2': 'hdimhje'\n",
    "    },\n",
    "    'output': 0\n",
    "})\n",
    "\n",
    "tests.append({\n",
    "    'input': {\n",
    "        'seq1': '',\n",
    "        'seq2': ''\n",
    "    },\n",
    "    'output': 0\n",
    "})\n",
    "\n",
    "tests.append({\n",
    "    'input': {\n",
    "        'seq1': [2, 5, 1, 6, 8],\n",
    "        'seq2': [5, 6, 8]\n",
    "    },\n",
    "    'output': 3\n",
    "})\n",
    "\n",
    "tests.append({\n",
    "    'input': {\n",
    "        'seq1': 'contem',\n",
    "        'seq2': 'contem'\n",
    "    },\n",
    "    'output': 6\n",
    "})"
   ]
  },
  {
   "cell_type": "code",
   "execution_count": 9,
   "metadata": {},
   "outputs": [],
   "source": [
    "def lcs_recursion(seq1, seq2, idx1=0, idx2=0):\n",
    "    if idx1 == len(seq1) or idx2 == len(seq2):\n",
    "        return 0\n",
    "    elif seq1[idx1] == seq2[idx2]:\n",
    "        return 1 + lcs_recursion(seq1, seq2, idx1+1, idx2+1)\n",
    "    else:\n",
    "        res1 = lcs_recursion(seq1, seq2, idx1+1, idx2)\n",
    "        res2 = lcs_recursion(seq1, seq2, idx1, idx2+1)\n",
    "        return max(res1, res2)"
   ]
  },
  {
   "cell_type": "code",
   "execution_count": 10,
   "metadata": {},
   "outputs": [
    {
     "name": "stdout",
     "output_type": "stream",
     "text": [
      "True\n",
      "True\n",
      "True\n",
      "True\n",
      "True\n",
      "True\n"
     ]
    }
   ],
   "source": [
    "for test in tests:\n",
    "    print(lcs_recursion(**test['input']) == test['output'])"
   ]
  },
  {
   "cell_type": "code",
   "execution_count": 11,
   "metadata": {},
   "outputs": [],
   "source": [
    "def lcs_memo(seq1, seq2):\n",
    "    memo = {}\n",
    "    def recurse(idx1, idx2):\n",
    "        key = (idx1, idx2)\n",
    "        if key in memo:\n",
    "            return memo[key]\n",
    "        elif idx1 == len(seq1) or idx2 == len(seq2):\n",
    "            memo[key] = 0\n",
    "        elif seq1[idx1] == seq2[idx2]:\n",
    "            memo[key] = 1 + recurse(idx1+1, idx2+1)\n",
    "        else:\n",
    "            memo[key] = max(recurse(idx1+1, idx2), recurse(idx1, idx2+1))\n",
    "        return memo[key]\n",
    "    return recurse(0, 0)"
   ]
  },
  {
   "cell_type": "code",
   "execution_count": 12,
   "metadata": {},
   "outputs": [
    {
     "name": "stdout",
     "output_type": "stream",
     "text": [
      "True\n",
      "True\n",
      "True\n",
      "True\n",
      "True\n",
      "True\n"
     ]
    }
   ],
   "source": [
    "for test in tests:\n",
    "    print(lcs_memo(**test['input']) == test['output'])"
   ]
  },
  {
   "cell_type": "code",
   "execution_count": 15,
   "metadata": {},
   "outputs": [],
   "source": [
    "def lcs_dynamic(seq1, seq2):\n",
    "    table = [[0 for _ in range(len(seq2) + 1)] for _ in range(len(seq1) + 1)]\n",
    "    for idx2 in range(len(seq2)):\n",
    "        for idx1 in range(len(seq1)):\n",
    "            if seq1[idx1] == seq2[idx2]:\n",
    "                table[idx1+1][idx2+1] = table[idx1][idx2] + 1\n",
    "            else:\n",
    "                table[idx1+1][idx2+1] = max(table[idx1+1][idx2], table[idx1][idx2+1])\n",
    "    return table[-1][-1]"
   ]
  },
  {
   "cell_type": "code",
   "execution_count": 16,
   "metadata": {},
   "outputs": [
    {
     "name": "stdout",
     "output_type": "stream",
     "text": [
      "True\n",
      "True\n",
      "True\n",
      "True\n",
      "True\n",
      "True\n"
     ]
    }
   ],
   "source": [
    "for test in tests:\n",
    "    print(lcs_dynamic(**test['input']) == test['output'])"
   ]
  },
  {
   "cell_type": "markdown",
   "metadata": {},
   "source": [
    "## 0-1 Knapsack Problem"
   ]
  },
  {
   "cell_type": "markdown",
   "metadata": {},
   "source": [
    "### Problem statement"
   ]
  },
  {
   "cell_type": "markdown",
   "metadata": {},
   "source": [
    "> You are in charge of selecting a football (soccer) team from a large pool of players. Each player has a cost, and a rating. You have a limited budget. What is the highest total rating of a team that fits within your budget. Assume that there is no minimum or maximum team size"
   ]
  },
  {
   "cell_type": "markdown",
   "metadata": {},
   "source": [
    "General problem statement"
   ]
  },
  {
   "cell_type": "markdown",
   "metadata": {},
   "source": [
    "> Given _n_ elements, each of which has a weight and a profit, determine the maximum progit that can be obtained by selecting a subset of the elements weighing no more that _w_."
   ]
  },
  {
   "cell_type": "code",
   "execution_count": 17,
   "metadata": {},
   "outputs": [],
   "source": [
    "tests = []\n",
    "\n",
    "tests.append({\n",
    "    'input': {\n",
    "        'capacity': 8,\n",
    "        'weight': [2, 4, 6, 8],\n",
    "        'profit': [3, 5, 4, 6]\n",
    "    },\n",
    "    'output': 8\n",
    "})\n",
    "\n",
    "tests.append({\n",
    "    'input': {\n",
    "        'capacity': 4,\n",
    "        'weight': [8, 9, 10, 11],\n",
    "        'profit': [2, 4, 5, 3]\n",
    "    },\n",
    "    'output': 0\n",
    "})\n",
    "\n",
    "tests.append({\n",
    "    'input': {\n",
    "        'capacity': 10,\n",
    "        'weight': [3, 4, 5, 8, 10],\n",
    "        'profit': [1, 3, 2, 5, 7]\n",
    "    },\n",
    "    'output': 7\n",
    "})\n",
    "\n",
    "tests.append({\n",
    "    'input': {\n",
    "        'capacity': 16,\n",
    "        'weight': [6, 4, 5, 8, 10],\n",
    "        'profit': [6, 3, 5, 5, 7]\n",
    "    },\n",
    "    'output': 14\n",
    "})"
   ]
  },
  {
   "cell_type": "code",
   "execution_count": 23,
   "metadata": {},
   "outputs": [],
   "source": [
    "def max_profit_recursion(capacity, weight, profit, idx=0):\n",
    "    if idx == len(weight):\n",
    "        return 0\n",
    "    elif capacity < weight[idx]:\n",
    "        return max_profit_recursion(capacity, weight, profit, idx+1)\n",
    "    else:\n",
    "        option1 = max_profit_recursion(capacity, weight, profit, idx+1)\n",
    "        option2 = profit[idx] + max_profit_recursion(capacity - weight[idx], weight, profit, idx+1)\n",
    "        return max(option1, option2)"
   ]
  },
  {
   "cell_type": "code",
   "execution_count": 24,
   "metadata": {},
   "outputs": [
    {
     "name": "stdout",
     "output_type": "stream",
     "text": [
      "8\n",
      "0\n",
      "7\n",
      "14\n"
     ]
    }
   ],
   "source": [
    "for test in tests:\n",
    "    print(max_profit_recursion(**test['input']))"
   ]
  },
  {
   "cell_type": "markdown",
   "metadata": {},
   "source": [
    "Implement memo solution"
   ]
  },
  {
   "cell_type": "code",
   "execution_count": 26,
   "metadata": {},
   "outputs": [],
   "source": [
    "def memo_recursive(capacity, weight, profit, idx=0):\n",
    "    memo = {}\n",
    "    def recursive(capacity, idx):\n",
    "        if idx == len(weight):\n",
    "            return 0\n",
    "        key = (capacity, idx)\n",
    "        if key in memo:\n",
    "            return memo[key]\n",
    "        elif capacity < weight[idx]:\n",
    "            memo[key] = recursive(capacity, idx+1)\n",
    "        else:\n",
    "            memo[key] = max(recursive(capacity, idx+1), profit[idx] + recursive(capacity - weight[idx], idx+1))\n",
    "        return memo[key]\n",
    "    return recursive(capacity, idx)\n"
   ]
  },
  {
   "cell_type": "code",
   "execution_count": 27,
   "metadata": {},
   "outputs": [
    {
     "name": "stdout",
     "output_type": "stream",
     "text": [
      "True\n",
      "True\n",
      "True\n",
      "True\n"
     ]
    }
   ],
   "source": [
    "for test in tests:\n",
    "    print(memo_recursive(**test['input']) == test['output'])"
   ]
  },
  {
   "cell_type": "code",
   "execution_count": 30,
   "metadata": {},
   "outputs": [],
   "source": [
    "def max_profit_dynamic(capacity, weight, profit, idx=0):\n",
    "    table = [[0 for _ in range(capacity+1)] for _ in range(len(weight) + 1)]\n",
    "    for i in range(len(weight)):\n",
    "        for c in range(1, capacity + 1):\n",
    "            if c < weight[i]:\n",
    "                table[i+1][c] = table[i][c]\n",
    "            else:\n",
    "                table [i+1][c] = max(table[i][c], profit[i] + table[i][c - weight[i]])\n",
    "    return table[-1][-1]\n"
   ]
  },
  {
   "cell_type": "code",
   "execution_count": 31,
   "metadata": {},
   "outputs": [
    {
     "name": "stdout",
     "output_type": "stream",
     "text": [
      "True\n",
      "True\n",
      "True\n",
      "True\n"
     ]
    }
   ],
   "source": [
    "for test in tests:\n",
    "    print(max_profit_dynamic(**test['input']) == test['output'])"
   ]
  }
 ],
 "metadata": {
  "kernelspec": {
   "display_name": "Python 3",
   "language": "python",
   "name": "python3"
  },
  "language_info": {
   "codemirror_mode": {
    "name": "ipython",
    "version": 3
   },
   "file_extension": ".py",
   "mimetype": "text/x-python",
   "name": "python",
   "nbconvert_exporter": "python",
   "pygments_lexer": "ipython3",
   "version": "3.11.4"
  },
  "orig_nbformat": 4
 },
 "nbformat": 4,
 "nbformat_minor": 2
}
