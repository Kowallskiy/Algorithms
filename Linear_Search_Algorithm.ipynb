{
 "cells": [
  {
   "cell_type": "code",
   "execution_count": null,
   "metadata": {},
   "outputs": [],
   "source": [
    "def find_card(cards, query):\n",
    "    position = 0\n",
    "\n",
    "    while True:\n",
    "        if cards[position] == query:\n",
    "            return position\n",
    "        elif position == len(cards):\n",
    "            return -1\n",
    "        else:\n",
    "            position += 1\n",
    "            continue"
   ]
  }
 ],
 "metadata": {
  "language_info": {
   "name": "python"
  },
  "orig_nbformat": 4
 },
 "nbformat": 4,
 "nbformat_minor": 2
}
