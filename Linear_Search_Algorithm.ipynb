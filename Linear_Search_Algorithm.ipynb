{
 "cells": [
  {
   "cell_type": "code",
   "execution_count": 26,
   "metadata": {},
   "outputs": [],
   "source": [
    "def locate_card(cards, query):\n",
    "    position = 0\n",
    "\n",
    "    while position < len(cards):\n",
    "        if cards[position] == query:\n",
    "            return position\n",
    "        position += 1\n",
    "    return -1"
   ]
  },
  {
   "cell_type": "code",
   "execution_count": 27,
   "metadata": {},
   "outputs": [],
   "source": [
    "tests = []\n",
    "tests.append({\n",
    "    'input': {'cards': [14, 12, 11, 10, 7, 4, 2],\n",
    "              'query': 7},\n",
    "    'output': 4\n",
    "})\n",
    "\n",
    "tests.append({\n",
    "    'input': {'cards': [0, -2, -10, -111],\n",
    "              'query': -111},\n",
    "    'output': 3\n",
    "})\n",
    "\n",
    "tests.append({\n",
    "    'input': {'cards': [69],\n",
    "              'query': 69},\n",
    "    'output': 0\n",
    "})\n",
    "\n",
    "tests.append({\n",
    "    'input': {'cards': [0, -2, -10, -111],\n",
    "              'query': -8},\n",
    "    'output': -1\n",
    "})\n",
    "\n",
    "tests.append({\n",
    "    'input': {'cards': [],\n",
    "              'query': 3},\n",
    "    'output': -1\n",
    "})"
   ]
  },
  {
   "cell_type": "code",
   "execution_count": 28,
   "metadata": {},
   "outputs": [
    {
     "name": "stdout",
     "output_type": "stream",
     "text": [
      "True\n",
      "True\n",
      "True\n",
      "True\n",
      "True\n"
     ]
    }
   ],
   "source": [
    "for test in tests:\n",
    "    print(locate_card(**test['input']) == test['output'])"
   ]
  },
  {
   "cell_type": "markdown",
   "metadata": {},
   "source": [
    "__Complexity__ of an algorithm is a mesaure of the amount of time and/or space required by an algorithm for an input of a given size e.g. __N__. Unless otherwise stated, the term _complexity_ always refers to the worst-case complexity (i.e. the highest possible time/space taken by the program/algorithm to process an input)."
   ]
  },
  {
   "cell_type": "code",
   "execution_count": 29,
   "metadata": {},
   "outputs": [],
   "source": [
    "#This function makes sure that if the query repeats itself multuply times, we return the location of\n",
    "# its first appearence. For instance [10, 9, 7, 7, 7, 7, 7, 6]\n",
    "\n",
    "def test_location(cards, query, mid):\n",
    "    mid_number = cards[mid]\n",
    "\n",
    "    if mid_number == query:\n",
    "        if mid - 1 >= 0 and cards[mid - 1] == query:\n",
    "            return 'left'\n",
    "        else: return 'found'\n",
    "    elif mid_number > query:\n",
    "        return 'right'\n",
    "    else: return 'left'\n",
    "\n",
    "def locate_card(cards, query):\n",
    "    low, high = 0, len(cards) - 1\n",
    "\n",
    "    while low <= high:\n",
    "        mid = (high + low) // 2\n",
    "        result = test_location(cards, query, mid)\n",
    "\n",
    "        if result == 'found':\n",
    "            return mid\n",
    "        elif result == 'left':\n",
    "            high = mid - 1\n",
    "        elif result == 'right':\n",
    "            low = mid + 1\n",
    "    return -1"
   ]
  },
  {
   "cell_type": "code",
   "execution_count": 30,
   "metadata": {},
   "outputs": [
    {
     "name": "stdout",
     "output_type": "stream",
     "text": [
      "True\n",
      "True\n",
      "True\n",
      "True\n",
      "True\n"
     ]
    }
   ],
   "source": [
    "for test in tests:\n",
    "    print(locate_card(**test['input']) == test['output'])"
   ]
  },
  {
   "cell_type": "markdown",
   "metadata": {},
   "source": [
    "Given an array of integers __nums__ sorted in ascending order, find the starting and ending position of a given number."
   ]
  },
  {
   "cell_type": "code",
   "execution_count": 39,
   "metadata": {},
   "outputs": [],
   "source": [
    "def binary_search(low, high, condition):\n",
    "    while low <= high:\n",
    "        mid = (low + high) // 2\n",
    "        result = condition(mid)\n",
    "\n",
    "        if result == 'found':\n",
    "            return mid\n",
    "        elif result == 'left':\n",
    "            high = mid - 1\n",
    "        else:\n",
    "            low = mid + 1\n",
    "    return -1\n",
    "\n",
    "def locate_starting_position(nums, target):\n",
    "    def condition(mid):\n",
    "        if nums[mid] == target:\n",
    "            if mid > 0 and nums[mid-1] == target:\n",
    "                return 'left'\n",
    "            else: return 'found'\n",
    "        elif nums[mid] < target:\n",
    "            return 'right'\n",
    "        else: return 'left'\n",
    "    return binary_search(0, len(nums) - 1, condition)\n",
    "        \n",
    "def locate_ending_position(nums, target):\n",
    "    def condition(mid):\n",
    "        if nums[mid] == target:\n",
    "            if mid + 1 < len(nums) and nums[mid+1] == target:\n",
    "                return 'right'\n",
    "            else:\n",
    "                return 'found'\n",
    "        elif nums[mid] < target:\n",
    "            return 'right'\n",
    "        else: return 'left'\n",
    "    return binary_search(0, len(nums) - 1, condition)\n",
    "\n",
    "def result(nums, target):\n",
    "    return [locate_starting_position(nums, target), locate_ending_position(nums, target)]"
   ]
  },
  {
   "cell_type": "code",
   "execution_count": 40,
   "metadata": {},
   "outputs": [],
   "source": [
    "tests = []\n",
    "\n",
    "tests.append({\n",
    "    'input': {\n",
    "        'nums': [1, 2, 3, 4, 5, 5, 5, 5, 5, 5, 5, 6, 7, 7],\n",
    "        'target': 5\n",
    "    },\n",
    "    'output': [4, 10]\n",
    "})\n",
    "\n",
    "tests.append({\n",
    "    'input': {\n",
    "        'nums': [10, 10, 10, 10, 12, 12, 12, 12, 12, 12, 12, 12, 12, 12],\n",
    "        'target': 10\n",
    "    },\n",
    "    'output': [0, 3]\n",
    "})\n",
    "\n",
    "tests.append({\n",
    "    'input': {\n",
    "        'nums': [4, 5],\n",
    "        'target': 7\n",
    "    },\n",
    "    'output': [-1, -1]\n",
    "})\n",
    "\n",
    "tests.append({\n",
    "    'input': {\n",
    "        'nums': [],\n",
    "        'target': 10\n",
    "    },\n",
    "    'output': [-1, -1]\n",
    "})"
   ]
  },
  {
   "cell_type": "code",
   "execution_count": 41,
   "metadata": {},
   "outputs": [
    {
     "name": "stdout",
     "output_type": "stream",
     "text": [
      "True\n",
      "[4, 10]\n",
      "True\n",
      "[0, 3]\n",
      "True\n",
      "[-1, -1]\n",
      "True\n",
      "[-1, -1]\n"
     ]
    }
   ],
   "source": [
    "for test in tests:\n",
    "    print(result(**test['input']) == test['output'])\n",
    "    print(result(**test['input']))"
   ]
  }
 ],
 "metadata": {
  "kernelspec": {
   "display_name": "Python 3",
   "language": "python",
   "name": "python3"
  },
  "language_info": {
   "codemirror_mode": {
    "name": "ipython",
    "version": 3
   },
   "file_extension": ".py",
   "mimetype": "text/x-python",
   "name": "python",
   "nbconvert_exporter": "python",
   "pygments_lexer": "ipython3",
   "version": "3.11.4"
  },
  "orig_nbformat": 4
 },
 "nbformat": 4,
 "nbformat_minor": 2
}
