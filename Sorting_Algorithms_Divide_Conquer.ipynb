{
 "cells": [
  {
   "cell_type": "markdown",
   "metadata": {},
   "source": [
    "## Merge Sort, Quicksort and Divide-n-Conquer Algorithms"
   ]
  },
  {
   "cell_type": "markdown",
   "metadata": {},
   "source": [
    "### Question"
   ]
  },
  {
   "cell_type": "markdown",
   "metadata": {},
   "source": [
    "You are working on a new feature on Jovian called \"Top Notebooks of the Week\". Write a function to sort a list of notebooks in decreasing order of likes. Keep in mind that up to millions of notebooks can be created every week, so your function needs to be as efficient as possible."
   ]
  },
  {
   "cell_type": "markdown",
   "metadata": {},
   "source": [
    "#### First Exercise"
   ]
  },
  {
   "cell_type": "markdown",
   "metadata": {},
   "source": [
    "Sort a list"
   ]
  },
  {
   "cell_type": "code",
   "execution_count": 25,
   "metadata": {},
   "outputs": [],
   "source": [
    "tests = []\n",
    "\n",
    "tests.append({\n",
    "    'input': {\n",
    "        'nums': [4, 3, 6, 2, 8, -1]\n",
    "    },\n",
    "    'output': [-1, 2, 3, 4, 6, 8]\n",
    "})\n",
    "\n",
    "tests.append({\n",
    "    'input': {\n",
    "        'nums': [1, 2, 3, 4, 5, 6]\n",
    "    },\n",
    "    'output': [1, 2, 3, 4, 5, 6]\n",
    "})\n",
    "\n",
    "tests.append({\n",
    "    'input': {\n",
    "        'nums': [8]\n",
    "    },\n",
    "    'output': [8]\n",
    "})\n",
    "\n",
    "tests.append({\n",
    "    'input': {'nums': [2, 2, 2, 1, 1, 0, 0]},\n",
    "    'output': [0, 0, 1, 1, 2, 2, 2]\n",
    "})\n",
    "\n",
    "tests.append({\n",
    "    'input': {\n",
    "        'nums': []\n",
    "    },\n",
    "    'output': []\n",
    "})\n"
   ]
  },
  {
   "cell_type": "code",
   "execution_count": 26,
   "metadata": {},
   "outputs": [],
   "source": [
    "import random\n",
    "\n",
    "input_list = list(range(10000))\n",
    "output_list = list(range(10000))\n",
    "\n",
    "random.shuffle(input_list)\n",
    "\n",
    "tests.append({\n",
    "    'input': {'nums': input_list},\n",
    "    'output': output_list\n",
    "})"
   ]
  },
  {
   "cell_type": "code",
   "execution_count": 27,
   "metadata": {},
   "outputs": [],
   "source": [
    "def bubble_sort(nums):\n",
    "    nums = list(nums)\n",
    "\n",
    "    for _ in range(len(nums) - 1):\n",
    "        for i in range(len(nums) - 1):\n",
    "            if nums[i] > nums[i+1]:\n",
    "                nums[i], nums[i+1] = nums[i+1], nums[i]\n",
    "    return nums"
   ]
  },
  {
   "cell_type": "code",
   "execution_count": 28,
   "metadata": {},
   "outputs": [
    {
     "data": {
      "text/plain": [
       "([4, 3, 6, 2, 8, -1], [-1, 2, 3, 4, 6, 8])"
      ]
     },
     "execution_count": 28,
     "metadata": {},
     "output_type": "execute_result"
    }
   ],
   "source": [
    "inp, out = tests[0]['input']['nums'], tests[0]['output']\n",
    "inp, out"
   ]
  },
  {
   "cell_type": "code",
   "execution_count": 29,
   "metadata": {},
   "outputs": [
    {
     "name": "stdout",
     "output_type": "stream",
     "text": [
      "Input: [4, 3, 6, 2, 8, -1]\n",
      "Expected output: [-1, 2, 3, 4, 6, 8]\n",
      "Actual output: [-1, 2, 3, 4, 6, 8]\n",
      "Matches: True\n"
     ]
    }
   ],
   "source": [
    "print(f\"Input: {inp}\")\n",
    "print(f\"Expected output: {out}\")\n",
    "print(f\"Actual output: {bubble_sort(inp)}\")\n",
    "print(f\"Matches: {bubble_sort(inp) == out}\")"
   ]
  },
  {
   "cell_type": "code",
   "execution_count": 31,
   "metadata": {},
   "outputs": [
    {
     "name": "stdout",
     "output_type": "stream",
     "text": [
      "True\n",
      "True\n",
      "True\n",
      "True\n",
      "True\n",
      "True\n"
     ]
    }
   ],
   "source": [
    "for test in tests:\n",
    "    print(bubble_sort(test['input']['nums']) == test['output'])"
   ]
  }
 ],
 "metadata": {
  "kernelspec": {
   "display_name": "Python 3",
   "language": "python",
   "name": "python3"
  },
  "language_info": {
   "codemirror_mode": {
    "name": "ipython",
    "version": 3
   },
   "file_extension": ".py",
   "mimetype": "text/x-python",
   "name": "python",
   "nbconvert_exporter": "python",
   "pygments_lexer": "ipython3",
   "version": "3.11.4"
  },
  "orig_nbformat": 4
 },
 "nbformat": 4,
 "nbformat_minor": 2
}
