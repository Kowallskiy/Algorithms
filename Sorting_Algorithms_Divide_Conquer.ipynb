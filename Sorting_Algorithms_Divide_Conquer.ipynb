{
 "cells": [
  {
   "cell_type": "markdown",
   "metadata": {},
   "source": [
    "## Merge Sort, Quicksort and Divide-n-Conquer Algorithms"
   ]
  },
  {
   "cell_type": "markdown",
   "metadata": {},
   "source": [
    "### Question"
   ]
  },
  {
   "cell_type": "markdown",
   "metadata": {},
   "source": [
    "You are working on a new feature on Jovian called \"Top Notebooks of the Week\". Write a function to sort a list of notebooks in decreasing order of likes. Keep in mind that up to millions of notebooks can be created every week, so your function needs to be as efficient as possible."
   ]
  },
  {
   "cell_type": "markdown",
   "metadata": {},
   "source": [
    "#### First Exercise"
   ]
  },
  {
   "cell_type": "markdown",
   "metadata": {},
   "source": [
    "Sort a list"
   ]
  },
  {
   "cell_type": "code",
   "execution_count": 1,
   "metadata": {},
   "outputs": [],
   "source": [
    "tests = []\n",
    "\n",
    "tests.append({\n",
    "    'input': {\n",
    "        'nums': [4, 3, 6, 2, 8, -1]\n",
    "    },\n",
    "    'output': [-1, 2, 3, 4, 6, 8]\n",
    "})\n",
    "\n",
    "tests.append({\n",
    "    'input': {\n",
    "        'nums': [1, 2, 3, 4, 5, 6]\n",
    "    },\n",
    "    'output': [1, 2, 3, 4, 5, 6]\n",
    "})\n",
    "\n",
    "tests.append({\n",
    "    'input': {\n",
    "        'nums': [8]\n",
    "    },\n",
    "    'output': [8]\n",
    "})\n",
    "\n",
    "tests.append({\n",
    "    'input': {'nums': [2, 2, 2, 1, 1, 0, 0]},\n",
    "    'output': [0, 0, 1, 1, 2, 2, 2]\n",
    "})\n",
    "\n",
    "tests.append({\n",
    "    'input': {\n",
    "        'nums': []\n",
    "    },\n",
    "    'output': []\n",
    "})\n"
   ]
  },
  {
   "cell_type": "code",
   "execution_count": 2,
   "metadata": {},
   "outputs": [],
   "source": [
    "import random\n",
    "\n",
    "input_list = list(range(10000))\n",
    "output_list = list(range(10000))\n",
    "\n",
    "random.shuffle(input_list)\n",
    "\n",
    "tests.append({\n",
    "    'input': {'nums': input_list},\n",
    "    'output': output_list\n",
    "})"
   ]
  },
  {
   "cell_type": "code",
   "execution_count": 3,
   "metadata": {},
   "outputs": [],
   "source": [
    "def bubble_sort(nums):\n",
    "    nums = list(nums)\n",
    "\n",
    "    for _ in range(len(nums) - 1):\n",
    "        for i in range(len(nums) - 1):\n",
    "            if nums[i] > nums[i+1]:\n",
    "                nums[i], nums[i+1] = nums[i+1], nums[i]\n",
    "    return nums"
   ]
  },
  {
   "cell_type": "code",
   "execution_count": 4,
   "metadata": {},
   "outputs": [
    {
     "data": {
      "text/plain": [
       "([4, 3, 6, 2, 8, -1], [-1, 2, 3, 4, 6, 8])"
      ]
     },
     "execution_count": 4,
     "metadata": {},
     "output_type": "execute_result"
    }
   ],
   "source": [
    "inp, out = tests[0]['input']['nums'], tests[0]['output']\n",
    "inp, out"
   ]
  },
  {
   "cell_type": "code",
   "execution_count": 5,
   "metadata": {},
   "outputs": [
    {
     "name": "stdout",
     "output_type": "stream",
     "text": [
      "Input: [4, 3, 6, 2, 8, -1]\n",
      "Expected output: [-1, 2, 3, 4, 6, 8]\n",
      "Actual output: [-1, 2, 3, 4, 6, 8]\n",
      "Matches: True\n"
     ]
    }
   ],
   "source": [
    "print(f\"Input: {inp}\")\n",
    "print(f\"Expected output: {out}\")\n",
    "print(f\"Actual output: {bubble_sort(inp)}\")\n",
    "print(f\"Matches: {bubble_sort(inp) == out}\")"
   ]
  },
  {
   "cell_type": "code",
   "execution_count": 6,
   "metadata": {},
   "outputs": [
    {
     "name": "stdout",
     "output_type": "stream",
     "text": [
      "True\n",
      "True\n",
      "True\n",
      "True\n",
      "True\n",
      "True\n"
     ]
    }
   ],
   "source": [
    "for test in tests:\n",
    "    print(bubble_sort(test['input']['nums']) == test['output'])"
   ]
  },
  {
   "cell_type": "markdown",
   "metadata": {},
   "source": [
    "### Insertion Sorting"
   ]
  },
  {
   "cell_type": "code",
   "execution_count": 7,
   "metadata": {},
   "outputs": [],
   "source": [
    "# [2, 6, 4, 8, 1]"
   ]
  },
  {
   "cell_type": "code",
   "execution_count": 8,
   "metadata": {},
   "outputs": [],
   "source": [
    "def insertion_sorting(nums):\n",
    "    nums = list(nums)\n",
    "\n",
    "    for i in range(len(nums)):\n",
    "        cur = nums.pop(i)\n",
    "        j = i - 1\n",
    "        while j >= 0 and nums[j] > cur:\n",
    "            j -= 1\n",
    "        nums.insert(j+1, cur)\n",
    "    return nums"
   ]
  },
  {
   "cell_type": "code",
   "execution_count": 9,
   "metadata": {},
   "outputs": [
    {
     "name": "stdout",
     "output_type": "stream",
     "text": [
      "True\n",
      "True\n",
      "True\n",
      "True\n",
      "True\n",
      "True\n"
     ]
    }
   ],
   "source": [
    "for test in tests:\n",
    "    print(insertion_sorting(**test['input']) == test['output'])"
   ]
  },
  {
   "cell_type": "markdown",
   "metadata": {},
   "source": [
    "### Divide and Conquer"
   ]
  },
  {
   "cell_type": "markdown",
   "metadata": {},
   "source": [
    "To perform sorting more efficiently, we will apply a strategy called __Divide and Conquer__, which has the following general steps:\n",
    "1. Divide the inputs into two roughly equal parts.\n",
    "2. Recursively solve the problem individually for each of the two parts\n",
    "3. Combine the results to solve the problem for the original inputs\n",
    "4. Include terminating conditions for small or indivisible inputs"
   ]
  },
  {
   "cell_type": "markdown",
   "metadata": {},
   "source": [
    "### Exercise"
   ]
  },
  {
   "cell_type": "markdown",
   "metadata": {},
   "source": [
    "Write a finction to merge two sorted arrays"
   ]
  },
  {
   "cell_type": "code",
   "execution_count": 10,
   "metadata": {},
   "outputs": [],
   "source": [
    "def merge(nums1, nums2):\n",
    "    \n",
    "    merged = []\n",
    "    i, j = 0, 0\n",
    "    while i < len(nums1) and j < len(nums2):\n",
    "        if nums1[i] <= nums2[j]:\n",
    "            merged.append(nums1[i])\n",
    "            i += 1\n",
    "        else:\n",
    "            merged.append(nums2[j])\n",
    "            j += 1\n",
    "    nums1_tail = nums1[i:]\n",
    "    nums2_tail = nums2[j:]\n",
    "\n",
    "    return merged + nums1_tail + nums2_tail\n",
    "\n",
    "def merge_sort(nums):\n",
    "    nums = list(nums)\n",
    "\n",
    "    if len(nums) <= 1:\n",
    "        return nums\n",
    "    mid = len(nums) // 2\n",
    "\n",
    "    left = nums[:mid]\n",
    "    right = nums[mid:]\n",
    "\n",
    "    left_sorted = merge_sort(left)\n",
    "    right_sorted = merge_sort(right)\n",
    "\n",
    "    result = merge(left_sorted, right_sorted)\n",
    "\n",
    "    return result\n"
   ]
  },
  {
   "cell_type": "code",
   "execution_count": 11,
   "metadata": {},
   "outputs": [
    {
     "data": {
      "text/plain": [
       "[-10, -5, 0, 3, 4, 6, 12, 15, 47]"
      ]
     },
     "execution_count": 11,
     "metadata": {},
     "output_type": "execute_result"
    }
   ],
   "source": [
    "merge([0, 3, 6, 15], [-10, -5, 4, 12, 47])"
   ]
  },
  {
   "cell_type": "code",
   "execution_count": 12,
   "metadata": {},
   "outputs": [
    {
     "name": "stdout",
     "output_type": "stream",
     "text": [
      "True\n",
      "True\n",
      "True\n",
      "True\n",
      "True\n",
      "True\n"
     ]
    }
   ],
   "source": [
    "for test in tests:\n",
    "    print(merge_sort(**test['input']) == test['output'])"
   ]
  },
  {
   "cell_type": "markdown",
   "metadata": {},
   "source": [
    "## Quicksort"
   ]
  },
  {
   "cell_type": "markdown",
   "metadata": {},
   "source": [
    "To overcome the space inefficiencies of merge sort, we'll study another divide-and-conquer based sorting algorithm called __quicksort__, which works as follows:\n",
    "1. If the list is empty or has just one element, return it.\n",
    "2. Pick a random element from the list. This element is called a _pivot_.\n",
    "3. Reorder the list so that all elements with values less than or equal to the pivot come before the pivot, while all elements with values greater than the pivot come after it. This operation is called _partitioning_.\n",
    "4. The pivot element divides the array into two parts which can be sorted independently by making a recursive call to quicksort."
   ]
  },
  {
   "cell_type": "code",
   "execution_count": 15,
   "metadata": {},
   "outputs": [],
   "source": [
    "def partitioning(nums, start=0, end=None):\n",
    "    if end is None:\n",
    "        nums = list(nums)\n",
    "        end = len(nums) - 1\n",
    "    \n",
    "    l, r = start, end - 1\n",
    "\n",
    "    while l < r:\n",
    "        if nums[l] <= nums[end]:\n",
    "            l += 1\n",
    "        elif nums[r] > nums[end]:\n",
    "            r -= 1 \n",
    "        else:\n",
    "            nums[l], nums[r] = nums[r], nums[l]\n",
    "    \n",
    "    if nums[l] > nums[end]:\n",
    "        nums[l], nums[end] = nums[end], nums[l]\n",
    "        return l\n",
    "    else:\n",
    "        return end\n",
    "\n",
    "def quicksort(nums, start=0, end=None):\n",
    "    if end is None:\n",
    "        nums = list(nums)\n",
    "        end = len(nums) - 1\n",
    "\n",
    "    if start < end:\n",
    "        pivot = partitioning(nums, start, end)\n",
    "        quicksort(nums, start, pivot - 1)\n",
    "        quicksort(nums, pivot + 1, end)\n",
    "    return nums"
   ]
  },
  {
   "cell_type": "code",
   "execution_count": 16,
   "metadata": {},
   "outputs": [
    {
     "name": "stdout",
     "output_type": "stream",
     "text": [
      "True\n",
      "True\n",
      "True\n",
      "True\n",
      "True\n",
      "True\n"
     ]
    }
   ],
   "source": [
    "for test in tests:\n",
    "    print(quicksort(**test['input']) == test['output'])"
   ]
  },
  {
   "cell_type": "markdown",
   "metadata": {},
   "source": [
    "### Answering the original question"
   ]
  },
  {
   "cell_type": "code",
   "execution_count": 17,
   "metadata": {},
   "outputs": [],
   "source": [
    "class Notebook:\n",
    "    def __init__(self, title, username, likes):\n",
    "        self.title = title\n",
    "        self.username = username\n",
    "        self.likes = likes\n",
    "    \n",
    "    def __repr__(self):\n",
    "        return f\"Notebook: '{self.title}/{self.username}', {self.likes} likes\""
   ]
  },
  {
   "cell_type": "code",
   "execution_count": 18,
   "metadata": {},
   "outputs": [],
   "source": [
    "nb0 = Notebook('we', 'btrn', 12)\n",
    "nb1 = Notebook('bgf', 'nfn', 26)\n",
    "nb2 = Notebook('fgbgfe', 'vdfv', 10)\n",
    "nb3 = Notebook('wfdsebe', 'bfgb', 45)\n",
    "nb4 = Notebook('wbwee', ',,uiuyf', 32)\n",
    "nb5 = Notebook('bnhm', 'svsn', 0)\n",
    "nb6 = Notebook('aseb', 'nhgmm', 11)\n",
    "nb7 = Notebook('wnrtn', 'fwefergtrh', 87)\n",
    "nb8 = Notebook('ymefrt', 'nytjyuj', 2)\n",
    "nb9 = Notebook('nmyu', 'wefegtrhtrh', 22)"
   ]
  },
  {
   "cell_type": "code",
   "execution_count": 20,
   "metadata": {},
   "outputs": [],
   "source": [
    "notebooks = [nb0, nb1, nb2, nb3, nb4, nb5, nb6, nb7, nb8, nb9]"
   ]
  },
  {
   "cell_type": "code",
   "execution_count": 21,
   "metadata": {},
   "outputs": [
    {
     "data": {
      "text/plain": [
       "[Notebook: 'we/btrn', 12 likes,\n",
       " Notebook: 'bgf/nfn', 26 likes,\n",
       " Notebook: 'fgbgfe/vdfv', 10 likes,\n",
       " Notebook: 'wfdsebe/bfgb', 45 likes,\n",
       " Notebook: 'wbwee/,,uiuyf', 32 likes,\n",
       " Notebook: 'bnhm/svsn', 0 likes,\n",
       " Notebook: 'aseb/nhgmm', 11 likes,\n",
       " Notebook: 'wnrtn/fwefergtrh', 87 likes,\n",
       " Notebook: 'ymefrt/nytjyuj', 2 likes,\n",
       " Notebook: 'nmyu/wefegtrhtrh', 22 likes]"
      ]
     },
     "execution_count": 21,
     "metadata": {},
     "output_type": "execute_result"
    }
   ],
   "source": [
    "notebooks"
   ]
  },
  {
   "cell_type": "code",
   "execution_count": 22,
   "metadata": {},
   "outputs": [],
   "source": [
    "# Returns whether the notbeook should be at lesser or greater position\n",
    "def compare_likes(nb1, nb2):\n",
    "    if nb1.likes > nb2.likes:\n",
    "        return 'lesser'\n",
    "    elif nb1.likes==nb2.likes:\n",
    "        return 'equal'\n",
    "    elif nb1.likes < nb2.likes:\n",
    "        return 'greater'"
   ]
  },
  {
   "cell_type": "code",
   "execution_count": 23,
   "metadata": {},
   "outputs": [],
   "source": [
    "def default_compare(x, y):\n",
    "    if x > y:\n",
    "        return 'lesser'\n",
    "    elif x == y:\n",
    "        return 'equal'\n",
    "    else: return 'greater'\n",
    "\n",
    "def merge_sort(obj, compare=default_compare):\n",
    "    obj = list(obj)\n",
    "\n",
    "    if len(obj) < 2:\n",
    "        return obj\n",
    "    \n",
    "    mid = len(obj) // 2\n",
    "    return merge(merge_sort(obj[:mid], compare), merge_sort(obj[mid:], compare), compare)\n",
    "\n",
    "def merge(left, right, compare):\n",
    "    i, j, merged = 0, 0, []\n",
    "    while i < len(left) and j < len(right):\n",
    "        result = compare(left[i], right[j])\n",
    "        if result == 'lesser' or result == 'equal':\n",
    "            merged.append(left[i])\n",
    "            i += 1\n",
    "        else:\n",
    "            merged.append(right[j])\n",
    "            j += 1\n",
    "    return merged + left[i:] + right[j:]\n",
    "    "
   ]
  },
  {
   "cell_type": "code",
   "execution_count": 24,
   "metadata": {},
   "outputs": [],
   "source": [
    "sorted_notebooks = merge_sort(notebooks, compare_likes)"
   ]
  },
  {
   "cell_type": "code",
   "execution_count": 25,
   "metadata": {},
   "outputs": [
    {
     "data": {
      "text/plain": [
       "[Notebook: 'wnrtn/fwefergtrh', 87 likes,\n",
       " Notebook: 'wfdsebe/bfgb', 45 likes,\n",
       " Notebook: 'wbwee/,,uiuyf', 32 likes,\n",
       " Notebook: 'bgf/nfn', 26 likes,\n",
       " Notebook: 'nmyu/wefegtrhtrh', 22 likes,\n",
       " Notebook: 'we/btrn', 12 likes,\n",
       " Notebook: 'aseb/nhgmm', 11 likes,\n",
       " Notebook: 'fgbgfe/vdfv', 10 likes,\n",
       " Notebook: 'ymefrt/nytjyuj', 2 likes,\n",
       " Notebook: 'bnhm/svsn', 0 likes]"
      ]
     },
     "execution_count": 25,
     "metadata": {},
     "output_type": "execute_result"
    }
   ],
   "source": [
    "sorted_notebooks"
   ]
  },
  {
   "cell_type": "markdown",
   "metadata": {},
   "source": [
    "Implement sorting of titles and usernames, then instead of merge sorting apply bubble sorting, quick sorting, and insertion sorting"
   ]
  },
  {
   "cell_type": "markdown",
   "metadata": {},
   "source": [
    "### Bubble"
   ]
  },
  {
   "cell_type": "code",
   "execution_count": 29,
   "metadata": {},
   "outputs": [],
   "source": [
    "def bubble(lis):\n",
    "    lis = list(lis)\n",
    "    for _ in range(len(lis)-1):\n",
    "        for i in range(len(lis)-1):\n",
    "            if lis[i].likes < lis[i+1].likes:\n",
    "                lis[i], lis[i+1] = lis[i+1], lis[i]\n",
    "    return lis\n",
    "        "
   ]
  },
  {
   "cell_type": "code",
   "execution_count": 30,
   "metadata": {},
   "outputs": [
    {
     "data": {
      "text/plain": [
       "[Notebook: 'wnrtn/fwefergtrh', 87 likes,\n",
       " Notebook: 'wfdsebe/bfgb', 45 likes,\n",
       " Notebook: 'wbwee/,,uiuyf', 32 likes,\n",
       " Notebook: 'bgf/nfn', 26 likes,\n",
       " Notebook: 'nmyu/wefegtrhtrh', 22 likes,\n",
       " Notebook: 'we/btrn', 12 likes,\n",
       " Notebook: 'aseb/nhgmm', 11 likes,\n",
       " Notebook: 'fgbgfe/vdfv', 10 likes,\n",
       " Notebook: 'ymefrt/nytjyuj', 2 likes,\n",
       " Notebook: 'bnhm/svsn', 0 likes]"
      ]
     },
     "execution_count": 30,
     "metadata": {},
     "output_type": "execute_result"
    }
   ],
   "source": [
    "result = bubble(notebooks)\n",
    "result"
   ]
  },
  {
   "cell_type": "markdown",
   "metadata": {},
   "source": [
    "### Insertion Sorting"
   ]
  },
  {
   "cell_type": "code",
   "execution_count": null,
   "metadata": {},
   "outputs": [],
   "source": [
    "# [2, 4, 3, 1, 5, 8]"
   ]
  },
  {
   "cell_type": "code",
   "execution_count": 38,
   "metadata": {},
   "outputs": [],
   "source": [
    "def insertion(ar):\n",
    "    ar = list(ar)\n",
    "    for i in range(len(ar)):\n",
    "        num = ar.pop(i)\n",
    "        j = i - 1\n",
    "        while j >= 0 and ar[j].likes < num.likes:\n",
    "            j -= 1\n",
    "        ar.insert(j+1, num)\n",
    "            \n",
    "    return ar\n"
   ]
  },
  {
   "cell_type": "code",
   "execution_count": 39,
   "metadata": {},
   "outputs": [
    {
     "data": {
      "text/plain": [
       "[Notebook: 'wnrtn/fwefergtrh', 87 likes,\n",
       " Notebook: 'wfdsebe/bfgb', 45 likes,\n",
       " Notebook: 'wbwee/,,uiuyf', 32 likes,\n",
       " Notebook: 'bgf/nfn', 26 likes,\n",
       " Notebook: 'nmyu/wefegtrhtrh', 22 likes,\n",
       " Notebook: 'we/btrn', 12 likes,\n",
       " Notebook: 'aseb/nhgmm', 11 likes,\n",
       " Notebook: 'fgbgfe/vdfv', 10 likes,\n",
       " Notebook: 'ymefrt/nytjyuj', 2 likes,\n",
       " Notebook: 'bnhm/svsn', 0 likes]"
      ]
     },
     "execution_count": 39,
     "metadata": {},
     "output_type": "execute_result"
    }
   ],
   "source": [
    "result = insertion(notebooks)\n",
    "result"
   ]
  },
  {
   "cell_type": "markdown",
   "metadata": {},
   "source": [
    "### Quicksorting"
   ]
  },
  {
   "cell_type": "code",
   "execution_count": null,
   "metadata": {},
   "outputs": [],
   "source": [
    "# [4, 2, 7, 5, 8, 6]"
   ]
  },
  {
   "cell_type": "code",
   "execution_count": 46,
   "metadata": {},
   "outputs": [],
   "source": [
    "def posit(nums, start, end):\n",
    "    if end is None:\n",
    "        nums = list(nums)\n",
    "        end = len(nums) - 1\n",
    "\n",
    "    i, j = start, end - 1\n",
    "    while i < j:\n",
    "        if nums[i].likes >= nums[end].likes:\n",
    "            i += 1\n",
    "        elif nums[j].likes < nums[end].likes:\n",
    "            j -= 1\n",
    "        else:\n",
    "            nums[i], nums[j] = nums[j], nums[i]\n",
    "    if nums[i].likes < nums[end].likes:\n",
    "        nums[i], nums[end] = nums[end], nums[i]\n",
    "        return i\n",
    "    else:\n",
    "        return end\n",
    "\n",
    "\n",
    "def quicksorting(nums, start=0, end=None):\n",
    "    if end is None:\n",
    "        nums = list(nums)\n",
    "        end = len(nums) - 1\n",
    "    if start < end:\n",
    "        pivot = posit(nums, start, end)\n",
    "        quicksorting(nums, start, pivot-1)\n",
    "        quicksorting(nums, pivot+1, end)\n",
    "    return nums"
   ]
  },
  {
   "cell_type": "code",
   "execution_count": 47,
   "metadata": {},
   "outputs": [
    {
     "data": {
      "text/plain": [
       "[Notebook: 'wnrtn/fwefergtrh', 87 likes,\n",
       " Notebook: 'wfdsebe/bfgb', 45 likes,\n",
       " Notebook: 'wbwee/,,uiuyf', 32 likes,\n",
       " Notebook: 'bgf/nfn', 26 likes,\n",
       " Notebook: 'nmyu/wefegtrhtrh', 22 likes,\n",
       " Notebook: 'we/btrn', 12 likes,\n",
       " Notebook: 'aseb/nhgmm', 11 likes,\n",
       " Notebook: 'fgbgfe/vdfv', 10 likes,\n",
       " Notebook: 'ymefrt/nytjyuj', 2 likes,\n",
       " Notebook: 'bnhm/svsn', 0 likes]"
      ]
     },
     "execution_count": 47,
     "metadata": {},
     "output_type": "execute_result"
    }
   ],
   "source": [
    "result = quicksorting(notebooks)\n",
    "result"
   ]
  },
  {
   "cell_type": "code",
   "execution_count": 56,
   "metadata": {},
   "outputs": [],
   "source": [
    "def sort_username(left, right, merged, i, j):\n",
    "    if left.username < right.username:\n",
    "        \n",
    "        return merged.append(left), i+1, j\n",
    "    else: return merged.append(right), i, j+1\n",
    "\n",
    "def merge(left, right):\n",
    "    merged = []\n",
    "    i, j = 0, 0\n",
    "    while i < len(left) and j < len(right):\n",
    "        if left[i].title < right[j].title:\n",
    "            merged.append(left[i])\n",
    "            i += 1\n",
    "        elif left[i].title > right[j].title:\n",
    "            merged.append(right[j])\n",
    "            j += 1\n",
    "        else: \n",
    "            merged, i, j = sort_username(left[i], right[j], merged, i, j)\n",
    "    l = left[i:]\n",
    "    r = right[j:]\n",
    "    return merged + l + r\n",
    "\n",
    "def merge_sort(ar):\n",
    "    ar = list(ar)\n",
    "    if len(ar) < 2:\n",
    "        return ar\n",
    "    \n",
    "    mid = len(ar) // 2\n",
    "    \n",
    "    left = ar[:mid]\n",
    "    right = ar[mid:]\n",
    "    return merge(merge_sort(left), merge_sort(right))"
   ]
  },
  {
   "cell_type": "code",
   "execution_count": 57,
   "metadata": {},
   "outputs": [
    {
     "data": {
      "text/plain": [
       "[Notebook: 'aseb/nhgmm', 11 likes,\n",
       " Notebook: 'bgf/nfn', 26 likes,\n",
       " Notebook: 'bnhm/svsn', 0 likes,\n",
       " Notebook: 'fgbgfe/vdfv', 10 likes,\n",
       " Notebook: 'nmyu/wefegtrhtrh', 22 likes,\n",
       " Notebook: 'wbwee/,,uiuyf', 32 likes,\n",
       " Notebook: 'we/btrn', 12 likes,\n",
       " Notebook: 'wfdsebe/bfgb', 45 likes,\n",
       " Notebook: 'wnrtn/fwefergtrh', 87 likes,\n",
       " Notebook: 'ymefrt/nytjyuj', 2 likes]"
      ]
     },
     "execution_count": 57,
     "metadata": {},
     "output_type": "execute_result"
    }
   ],
   "source": [
    "result = merge_sort(notebooks)\n",
    "result"
   ]
  }
 ],
 "metadata": {
  "kernelspec": {
   "display_name": "Python 3",
   "language": "python",
   "name": "python3"
  },
  "language_info": {
   "codemirror_mode": {
    "name": "ipython",
    "version": 3
   },
   "file_extension": ".py",
   "mimetype": "text/x-python",
   "name": "python",
   "nbconvert_exporter": "python",
   "pygments_lexer": "ipython3",
   "version": "3.11.4"
  },
  "orig_nbformat": 4
 },
 "nbformat": 4,
 "nbformat_minor": 2
}
