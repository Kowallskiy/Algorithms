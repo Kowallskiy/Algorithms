{
 "cells": [
  {
   "cell_type": "markdown",
   "metadata": {},
   "source": [
    "## Merge Sort, Quicksort and Divide-n-Conquer Algorithms"
   ]
  },
  {
   "cell_type": "markdown",
   "metadata": {},
   "source": [
    "### Question"
   ]
  },
  {
   "cell_type": "markdown",
   "metadata": {},
   "source": [
    "You are working on a new feature on Jovian called \"Top Notebooks of the Week\". Write a function to sort a list of notebooks in decreasing order of likes. Keep in mind that up to millions of notebooks can be created every week, so your function needs to be as efficient as possible."
   ]
  },
  {
   "cell_type": "markdown",
   "metadata": {},
   "source": [
    "#### First Exercise"
   ]
  },
  {
   "cell_type": "markdown",
   "metadata": {},
   "source": [
    "Sort a list"
   ]
  },
  {
   "cell_type": "code",
   "execution_count": 1,
   "metadata": {},
   "outputs": [],
   "source": [
    "tests = []\n",
    "\n",
    "tests.append({\n",
    "    'input': {\n",
    "        'nums': [4, 3, 6, 2, 8, -1]\n",
    "    },\n",
    "    'output': [-1, 2, 3, 4, 6, 8]\n",
    "})\n",
    "\n",
    "tests.append({\n",
    "    'input': {\n",
    "        'nums': [1, 2, 3, 4, 5, 6]\n",
    "    },\n",
    "    'output': [1, 2, 3, 4, 5, 6]\n",
    "})\n",
    "\n",
    "tests.append({\n",
    "    'input': {\n",
    "        'nums': [8]\n",
    "    },\n",
    "    'output': [8]\n",
    "})\n",
    "\n",
    "tests.append({\n",
    "    'input': {'nums': [2, 2, 2, 1, 1, 0, 0]},\n",
    "    'output': [0, 0, 1, 1, 2, 2, 2]\n",
    "})\n",
    "\n",
    "tests.append({\n",
    "    'input': {\n",
    "        'nums': []\n",
    "    },\n",
    "    'output': []\n",
    "})\n"
   ]
  },
  {
   "cell_type": "code",
   "execution_count": 2,
   "metadata": {},
   "outputs": [],
   "source": [
    "import random\n",
    "\n",
    "input_list = list(range(10000))\n",
    "output_list = list(range(10000))\n",
    "\n",
    "random.shuffle(input_list)\n",
    "\n",
    "tests.append({\n",
    "    'input': {'nums': input_list},\n",
    "    'output': output_list\n",
    "})"
   ]
  },
  {
   "cell_type": "code",
   "execution_count": 3,
   "metadata": {},
   "outputs": [],
   "source": [
    "def bubble_sort(nums):\n",
    "    nums = list(nums)\n",
    "\n",
    "    for _ in range(len(nums) - 1):\n",
    "        for i in range(len(nums) - 1):\n",
    "            if nums[i] > nums[i+1]:\n",
    "                nums[i], nums[i+1] = nums[i+1], nums[i]\n",
    "    return nums"
   ]
  },
  {
   "cell_type": "code",
   "execution_count": 4,
   "metadata": {},
   "outputs": [
    {
     "data": {
      "text/plain": [
       "([4, 3, 6, 2, 8, -1], [-1, 2, 3, 4, 6, 8])"
      ]
     },
     "execution_count": 4,
     "metadata": {},
     "output_type": "execute_result"
    }
   ],
   "source": [
    "inp, out = tests[0]['input']['nums'], tests[0]['output']\n",
    "inp, out"
   ]
  },
  {
   "cell_type": "code",
   "execution_count": 5,
   "metadata": {},
   "outputs": [
    {
     "name": "stdout",
     "output_type": "stream",
     "text": [
      "Input: [4, 3, 6, 2, 8, -1]\n",
      "Expected output: [-1, 2, 3, 4, 6, 8]\n",
      "Actual output: [-1, 2, 3, 4, 6, 8]\n",
      "Matches: True\n"
     ]
    }
   ],
   "source": [
    "print(f\"Input: {inp}\")\n",
    "print(f\"Expected output: {out}\")\n",
    "print(f\"Actual output: {bubble_sort(inp)}\")\n",
    "print(f\"Matches: {bubble_sort(inp) == out}\")"
   ]
  },
  {
   "cell_type": "code",
   "execution_count": 6,
   "metadata": {},
   "outputs": [
    {
     "name": "stdout",
     "output_type": "stream",
     "text": [
      "True\n",
      "True\n",
      "True\n",
      "True\n",
      "True\n",
      "True\n"
     ]
    }
   ],
   "source": [
    "for test in tests:\n",
    "    print(bubble_sort(test['input']['nums']) == test['output'])"
   ]
  },
  {
   "cell_type": "markdown",
   "metadata": {},
   "source": [
    "### Insertion Sorting"
   ]
  },
  {
   "cell_type": "code",
   "execution_count": 7,
   "metadata": {},
   "outputs": [],
   "source": [
    "# [2, 6, 4, 8, 1]"
   ]
  },
  {
   "cell_type": "code",
   "execution_count": 8,
   "metadata": {},
   "outputs": [],
   "source": [
    "def insertion_sorting(nums):\n",
    "    nums = list(nums)\n",
    "\n",
    "    for i in range(len(nums)):\n",
    "        cur = nums.pop(i)\n",
    "        j = i - 1\n",
    "        while j >= 0 and nums[j] > cur:\n",
    "            j -= 1\n",
    "        nums.insert(j+1, cur)\n",
    "    return nums"
   ]
  },
  {
   "cell_type": "code",
   "execution_count": 9,
   "metadata": {},
   "outputs": [
    {
     "name": "stdout",
     "output_type": "stream",
     "text": [
      "True\n",
      "True\n",
      "True\n",
      "True\n",
      "True\n",
      "True\n"
     ]
    }
   ],
   "source": [
    "for test in tests:\n",
    "    print(insertion_sorting(**test['input']) == test['output'])"
   ]
  },
  {
   "cell_type": "markdown",
   "metadata": {},
   "source": [
    "### Divide and Conquer"
   ]
  },
  {
   "cell_type": "markdown",
   "metadata": {},
   "source": [
    "To perform sorting more efficiently, we will apply a strategy called __Divide and Conquer__, which has the following general steps:\n",
    "1. Divide the inputs into two roughly equal parts.\n",
    "2. Recursively solve the problem individually for each of the two parts\n",
    "3. Combine the results to solve the problem for the original inputs\n",
    "4. Include terminating conditions for small or indivisible inputs"
   ]
  },
  {
   "cell_type": "markdown",
   "metadata": {},
   "source": [
    "### Exercise"
   ]
  },
  {
   "cell_type": "markdown",
   "metadata": {},
   "source": [
    "Write a finction to merge two sorted arrays"
   ]
  },
  {
   "cell_type": "code",
   "execution_count": 10,
   "metadata": {},
   "outputs": [],
   "source": [
    "def merge(nums1, nums2):\n",
    "    \n",
    "    merged = []\n",
    "    i, j = 0, 0\n",
    "    while i < len(nums1) and j < len(nums2):\n",
    "        if nums1[i] <= nums2[j]:\n",
    "            merged.append(nums1[i])\n",
    "            i += 1\n",
    "        else:\n",
    "            merged.append(nums2[j])\n",
    "            j += 1\n",
    "    nums1_tail = nums1[i:]\n",
    "    nums2_tail = nums2[j:]\n",
    "\n",
    "    return merged + nums1_tail + nums2_tail\n",
    "\n",
    "def merge_sort(nums):\n",
    "    nums = list(nums)\n",
    "\n",
    "    if len(nums) <= 1:\n",
    "        return nums\n",
    "    mid = len(nums) // 2\n",
    "\n",
    "    left = nums[:mid]\n",
    "    right = nums[mid:]\n",
    "\n",
    "    left_sorted = merge_sort(left)\n",
    "    right_sorted = merge_sort(right)\n",
    "\n",
    "    result = merge(left_sorted, right_sorted)\n",
    "\n",
    "    return result\n"
   ]
  },
  {
   "cell_type": "code",
   "execution_count": 11,
   "metadata": {},
   "outputs": [
    {
     "data": {
      "text/plain": [
       "[-10, -5, 0, 3, 4, 6, 12, 15, 47]"
      ]
     },
     "execution_count": 11,
     "metadata": {},
     "output_type": "execute_result"
    }
   ],
   "source": [
    "merge([0, 3, 6, 15], [-10, -5, 4, 12, 47])"
   ]
  },
  {
   "cell_type": "code",
   "execution_count": 12,
   "metadata": {},
   "outputs": [
    {
     "name": "stdout",
     "output_type": "stream",
     "text": [
      "True\n",
      "True\n",
      "True\n",
      "True\n",
      "True\n",
      "True\n"
     ]
    }
   ],
   "source": [
    "for test in tests:\n",
    "    print(merge_sort(**test['input']) == test['output'])"
   ]
  },
  {
   "cell_type": "markdown",
   "metadata": {},
   "source": [
    "## Quicksort"
   ]
  },
  {
   "cell_type": "markdown",
   "metadata": {},
   "source": [
    "To overcome the space inefficiencies of merge sort, we'll study another divide-and-conquer based sorting algorithm called __quicksort__, which works as follows:\n",
    "1. If the list is empty or has just one element, return it.\n",
    "2. Pick a random element from the list. This element is called a _pivot_.\n",
    "3. Reorder the list so that all elements with values less than or equal to the pivot come before the pivot, while all elements with values greater than the pivot come after it. This operation is called _partitioning_.\n",
    "4. The pivot element divides the array into two parts which can be sorted independently by making a recursive call to quicksort."
   ]
  },
  {
   "cell_type": "code",
   "execution_count": null,
   "metadata": {},
   "outputs": [],
   "source": [
    "def partitioning(nums, start=0, end=None):\n",
    "    if end is None:\n",
    "        nums = list(nums)\n",
    "        end = len(nums) - 1\n",
    "    \n",
    "    l, r = start, end - 1\n",
    "\n",
    "    while l < r:\n",
    "        if nums[l] > nums[end]:\n",
    "            \n",
    "        elif nums\n",
    "\n",
    "def quicksort(nums, start=0, end=None):\n",
    "    if end is None:\n",
    "        nums = list(nums)\n",
    "        end = len(nums) - 1\n",
    "\n",
    "    if start < end:\n",
    "        pivot = partitioning(nums, start, end)\n",
    "        quicksort(nums, start, pivot - 1)\n",
    "        quicksort(nums, pivot + 1, end)\n",
    "        return nums"
   ]
  }
 ],
 "metadata": {
  "kernelspec": {
   "display_name": "Python 3",
   "language": "python",
   "name": "python3"
  },
  "language_info": {
   "codemirror_mode": {
    "name": "ipython",
    "version": 3
   },
   "file_extension": ".py",
   "mimetype": "text/x-python",
   "name": "python",
   "nbconvert_exporter": "python",
   "pygments_lexer": "ipython3",
   "version": "3.11.4"
  },
  "orig_nbformat": 4
 },
 "nbformat": 4,
 "nbformat_minor": 2
}
