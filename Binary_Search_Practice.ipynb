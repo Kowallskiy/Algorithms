{
 "cells": [
  {
   "cell_type": "markdown",
   "metadata": {},
   "source": [
    "You are given list of numbers, obtained by rotating a sorted list an unknown number of times. Write a function to determine the minimum number of times the original sorted list was rotated to obtain the given list. Your function should have the worst-case complexity of O(log N), where N is the length of the list. You can assume that all the numbers in the list are unique.\n",
    "\n",
    "Example: The list __[5, 6, 9, 0, 2, 3, 4]__ was obtained by rotating the sorted list __[0, 2, 3, 4, 5, 6, 9]__ 3 times.\n",
    "\n",
    "We define \"rotating a list\" as removing the last element of the list and adding it before the first element. E.g. rotating the list __[3, 2, 4, 1]__ produces __[1, 3, 2, 4]__.\n",
    "\n",
    "\"Sorted list\" refers to a list where the elements are arranged in the increasing order e.g. __[1, 3, 5, 7]__."
   ]
  },
  {
   "cell_type": "code",
   "execution_count": 15,
   "metadata": {},
   "outputs": [],
   "source": [
    "tests = []\n",
    "\n",
    "tests.append({\n",
    "    'input': {'nums': [10, 1, 2, 3, 4, 5, 6, 7, 8, 9]},\n",
    "    'output': 1\n",
    "})\n",
    "\n",
    "tests.append({\n",
    "    'input': {'nums': [8, 10, 12, 14, 16, 2, 4, 6]},\n",
    "    'output': 5\n",
    "})\n",
    "\n",
    "tests.append({\n",
    "    'input': {'nums': [1, 2, 3, 4, 5]},\n",
    "    'output': 0\n",
    "})\n",
    "\n",
    "tests.append({\n",
    "    'input': {'nums': [0, 1, 2, 3, 4, 5, -1]},\n",
    "    'output': 6\n",
    "})\n",
    "\n",
    "tests.append({\n",
    "    'input': {'nums': []},\n",
    "    'output': 0\n",
    "})\n",
    "\n",
    "tests.append({\n",
    "    'input': {'nums': [5]},\n",
    "    'output': 0\n",
    "})"
   ]
  },
  {
   "cell_type": "code",
   "execution_count": 20,
   "metadata": {},
   "outputs": [],
   "source": [
    "def count_rotations_linear(nums):\n",
    "    position = 0\n",
    "\n",
    "    while position < len(nums):\n",
    "        \n",
    "        if position > 0 and nums[position] < nums[position - 1]:\n",
    "            return position\n",
    "        \n",
    "        position += 1\n",
    "\n",
    "    return 0"
   ]
  },
  {
   "cell_type": "code",
   "execution_count": 21,
   "metadata": {},
   "outputs": [
    {
     "name": "stdout",
     "output_type": "stream",
     "text": [
      "True\n",
      "True\n",
      "True\n",
      "True\n",
      "True\n",
      "True\n"
     ]
    }
   ],
   "source": [
    "for test in tests:\n",
    "    print(count_rotations_linear(**test['input']) == test['output'])"
   ]
  },
  {
   "cell_type": "code",
   "execution_count": 24,
   "metadata": {},
   "outputs": [],
   "source": [
    "# [5, 6, 7, 1, 2, 3, 4], [10, 20, 1, 2, 3, 4, 5, 6, 7, 8], [10, 20, 30, 40, 45, 50, 60, 1, 2, 3]\n",
    "\n",
    "def count_rotations_binary(nums):\n",
    "    low, high = 0, len(nums) - 1\n",
    "\n",
    "    while low <= high:\n",
    "        mid = (low + high) // 2\n",
    "        mid_number = nums[mid]\n",
    "\n",
    "        if mid > 0 and mid_number <= nums[-1] and mid_number < nums[mid - 1]:\n",
    "            return mid\n",
    "        elif mid_number < nums[-1]:\n",
    "            high = mid - 1\n",
    "        else: low = mid + 1\n",
    "    return 0"
   ]
  },
  {
   "cell_type": "code",
   "execution_count": 25,
   "metadata": {},
   "outputs": [
    {
     "name": "stdout",
     "output_type": "stream",
     "text": [
      "True\n",
      "True\n",
      "True\n",
      "True\n",
      "True\n",
      "True\n"
     ]
    }
   ],
   "source": [
    "for test in tests:\n",
    "    print(count_rotations_binary(**test['input']) == test['output'])"
   ]
  },
  {
   "cell_type": "markdown",
   "metadata": {},
   "source": [
    "You are given list of numbers, obtained by rotating a sorted list an unknown number of times. You are also given a target number. Write a function to find the position of the target number within the rotated list. You can assume that all the numbers in the list are unique.\n",
    "\n",
    "Example: In the rotated sorted list __[5, 6, 9, 0, 2, 3, 4]__, the target number 2 occurs at position 5."
   ]
  },
  {
   "cell_type": "code",
   "execution_count": 39,
   "metadata": {},
   "outputs": [],
   "source": [
    "tests = []\n",
    "\n",
    "tests.append({\n",
    "    'input': {'nums': [10, 1, 2, 3, 4, 5, 6, 7, 8, 9],\n",
    "              'target': 2},\n",
    "    'output': 2\n",
    "})\n",
    "\n",
    "tests.append({\n",
    "    'input': {'nums': [8, 10, 12, 14, 16, 2, 4, 6],\n",
    "              'target': 8},\n",
    "    'output': 0\n",
    "})\n",
    "\n",
    "tests.append({\n",
    "    'input': {'nums': [1, 2, 3, 4, 5],\n",
    "              'target': 5},\n",
    "    'output': 4\n",
    "})\n",
    "\n",
    "tests.append({\n",
    "    'input': {'nums': [9, 1, 2, 3, 4, 5, 6],\n",
    "              'target': 5},\n",
    "    'output': 5\n",
    "})\n",
    "\n",
    "tests.append({\n",
    "    'input': {'nums': [],\n",
    "              'target': 10},\n",
    "    'output': -1\n",
    "})\n",
    "\n",
    "tests.append({\n",
    "    'input': {'nums': [5],\n",
    "              'target': 12},\n",
    "    'output': -1\n",
    "})"
   ]
  },
  {
   "cell_type": "markdown",
   "metadata": {},
   "source": [
    "1. Find the rotation position of the __nums__ array\n",
    "2. if position == 0 then do binary search\n",
    "3. if position == len(nums) - 1 then check if the number is the target otherwise do binay search of the left\n",
    "4. Check if the target number is going to be on the left or on the right\n",
    "\n",
    "There will be 3 functions: 1 is find_rotation_position_binary, 2,3,4 - condition, and the last function is binary search\n"
   ]
  },
  {
   "cell_type": "code",
   "execution_count": 40,
   "metadata": {},
   "outputs": [],
   "source": [
    "# [5, 6, 7, 1, 2, 3, 4], [10, 20, 1, 2, 3, 4, 5, 6, 7, 8], [10, 20, 30, 40, 45, 50, 60, 1, 2, 3]\n",
    "\n",
    "def find_rotation_position_binary(nums):\n",
    "    low, high = 0, len(nums) - 1\n",
    "\n",
    "    while low <= high:\n",
    "        mid = (low + high) // 2\n",
    "        mid_number = nums[mid]\n",
    "\n",
    "        if mid > 0 and mid_number <= nums[-1] and mid_number < nums[mid - 1]:\n",
    "            return mid\n",
    "        elif mid_number < nums[-1]:\n",
    "            high = mid - 1\n",
    "        else: low = mid + 1\n",
    "    return 0"
   ]
  },
  {
   "cell_type": "code",
   "execution_count": 41,
   "metadata": {},
   "outputs": [],
   "source": [
    "def binary_search(low, high, target, nums):\n",
    "    while low <= high:\n",
    "        mid = (low + high) // 2\n",
    "        mid_number = nums[mid]\n",
    "\n",
    "        if mid >= 0 and mid_number == target:\n",
    "            return mid\n",
    "        elif mid_number < target:\n",
    "            low = mid + 1\n",
    "        else: high = mid - 1\n",
    "    return -1\n",
    "\n",
    "def condition(nums, target):\n",
    "    if len(nums) == 0:\n",
    "        return -1\n",
    "    position = find_rotation_position_binary(nums)\n",
    "\n",
    "    if nums[position] == target:\n",
    "        return position\n",
    "    elif target > nums[-1]:\n",
    "        low, high = 0, position - 1\n",
    "        return binary_search(low, high, target, nums)\n",
    "    else:\n",
    "        low, high = position + 1, len(nums) - 1\n",
    "        return binary_search(low, high, target, nums)"
   ]
  },
  {
   "cell_type": "code",
   "execution_count": 42,
   "metadata": {},
   "outputs": [
    {
     "name": "stdout",
     "output_type": "stream",
     "text": [
      "True\n",
      "True\n",
      "True\n",
      "True\n",
      "True\n",
      "True\n"
     ]
    }
   ],
   "source": [
    "for test in tests:\n",
    "    print(condition(**test['input']) == test['output'])"
   ]
  }
 ],
 "metadata": {
  "kernelspec": {
   "display_name": "Python 3",
   "language": "python",
   "name": "python3"
  },
  "language_info": {
   "codemirror_mode": {
    "name": "ipython",
    "version": 3
   },
   "file_extension": ".py",
   "mimetype": "text/x-python",
   "name": "python",
   "nbconvert_exporter": "python",
   "pygments_lexer": "ipython3",
   "version": "3.11.4"
  },
  "orig_nbformat": 4
 },
 "nbformat": 4,
 "nbformat_minor": 2
}
