{
 "cells": [
  {
   "cell_type": "markdown",
   "metadata": {},
   "source": [
    "## Question 1"
   ]
  },
  {
   "cell_type": "markdown",
   "metadata": {},
   "source": [
    "As a senior backend engineer at Jovian, you are tasked with developing a fast in-memory data structure to manage profile information (username, name and email) for 100 million users. It should allow the following operations to be performed efficiently:\n",
    "1. __Insert__ the profile information for a new user.\n",
    "2. __Find__ the profile information of a user, given the username.\n",
    "3. __Update__ the profile information of a user, given their username.\n",
    "4. __List__ all the users of the platform, sorted by username\n",
    "\n",
    "You can assume that usernames are unique"
   ]
  },
  {
   "cell_type": "code",
   "execution_count": 1,
   "metadata": {},
   "outputs": [],
   "source": [
    "class User:\n",
    "    def __init__(self, username, name, email):\n",
    "        self.username = username\n",
    "        self.name = name\n",
    "        self.email = email\n",
    "    \n",
    "    def __repr__(self):\n",
    "        return f\"User (username: {self.username}, name: {self.name}, email: {self.email})\"\n",
    "\n",
    "    def __str__(self):\n",
    "        return self.__repr__()"
   ]
  },
  {
   "cell_type": "code",
   "execution_count": 2,
   "metadata": {},
   "outputs": [
    {
     "data": {
      "text/plain": [
       "User (username: Jane228, name: Jane, email: Ja@mail.com)"
      ]
     },
     "execution_count": 2,
     "metadata": {},
     "output_type": "execute_result"
    }
   ],
   "source": [
    "user1 = User(\"Jane228\", \"Jane\", \"Ja@mail.com\")\n",
    "user1"
   ]
  },
  {
   "cell_type": "code",
   "execution_count": 3,
   "metadata": {},
   "outputs": [],
   "source": [
    "josh = User(\"josh\", \"Josh Wa\", \"jo@mail.com\")\n",
    "mikki = User(\"mikki\", \"Mikle St\", 'mike@mail.com')\n",
    "kiki = User(\"kiki\", \"Kyle But\", \"bhg@mail.com\")\n",
    "ceee = User(\"ceee\", \"Guf Kjf\", \"ce@mail.com\")\n",
    "yter = User(\"yter\", \"Haj Ljsd\", \"yt@mail.com\")\n",
    "astr = User(\"astr\", \"Aaron Ku\", \"a@mail.com\")\n",
    "jjjj = User(\"jjjj\", \"Ilcher Uuu\", \"ilcher@mail.com\")"
   ]
  },
  {
   "cell_type": "code",
   "execution_count": 4,
   "metadata": {},
   "outputs": [
    {
     "data": {
      "text/plain": [
       "[User (username: josh, name: Josh Wa, email: jo@mail.com),\n",
       " User (username: mikki, name: Mikle St, email: mike@mail.com),\n",
       " User (username: kiki, name: Kyle But, email: bhg@mail.com),\n",
       " User (username: ceee, name: Guf Kjf, email: ce@mail.com),\n",
       " User (username: yter, name: Haj Ljsd, email: yt@mail.com),\n",
       " User (username: astr, name: Aaron Ku, email: a@mail.com),\n",
       " User (username: jjjj, name: Ilcher Uuu, email: ilcher@mail.com)]"
      ]
     },
     "execution_count": 4,
     "metadata": {},
     "output_type": "execute_result"
    }
   ],
   "source": [
    "users = [josh, mikki, kiki, ceee, yter, astr, jjjj]\n",
    "users"
   ]
  },
  {
   "cell_type": "code",
   "execution_count": 5,
   "metadata": {},
   "outputs": [],
   "source": [
    "class UserDatabase:\n",
    "    def __init__(self):\n",
    "        self.users = []\n",
    "\n",
    "    def insert(self, user):\n",
    "        i = 0\n",
    "\n",
    "        while i < len(self.users):\n",
    "            if self.users[i].username > user.username:\n",
    "                break\n",
    "            i += 1\n",
    "        self.users.insert(i, user)\n",
    "\n",
    "    def find(self, username):\n",
    "        for user in self.users:\n",
    "            if user.username == username:\n",
    "                return user\n",
    "\n",
    "    def update(self, user):\n",
    "        target = self.find(user.username)\n",
    "        target.name, target.email = user.name, user.email\n",
    "\n",
    "    def list_all(self):\n",
    "        return self.users"
   ]
  },
  {
   "cell_type": "code",
   "execution_count": 6,
   "metadata": {},
   "outputs": [],
   "source": [
    "database = UserDatabase()"
   ]
  },
  {
   "cell_type": "code",
   "execution_count": 7,
   "metadata": {},
   "outputs": [],
   "source": [
    "database.insert(josh)\n",
    "database.insert(mikki)\n",
    "database.insert(kiki)"
   ]
  },
  {
   "cell_type": "code",
   "execution_count": 8,
   "metadata": {},
   "outputs": [
    {
     "data": {
      "text/plain": [
       "User (username: kiki, name: Kyle But, email: bhg@mail.com)"
      ]
     },
     "execution_count": 8,
     "metadata": {},
     "output_type": "execute_result"
    }
   ],
   "source": [
    "user = database.find('kiki')\n",
    "user"
   ]
  },
  {
   "cell_type": "code",
   "execution_count": 9,
   "metadata": {},
   "outputs": [],
   "source": [
    "database.update(User(username='kiki', name='Al Al', email='aaa@aaa.com'))"
   ]
  },
  {
   "cell_type": "code",
   "execution_count": 10,
   "metadata": {},
   "outputs": [
    {
     "data": {
      "text/plain": [
       "User (username: kiki, name: Al Al, email: aaa@aaa.com)"
      ]
     },
     "execution_count": 10,
     "metadata": {},
     "output_type": "execute_result"
    }
   ],
   "source": [
    "user = database.find('kiki')\n",
    "user"
   ]
  },
  {
   "cell_type": "code",
   "execution_count": 11,
   "metadata": {},
   "outputs": [
    {
     "data": {
      "text/plain": [
       "[User (username: josh, name: Josh Wa, email: jo@mail.com),\n",
       " User (username: kiki, name: Al Al, email: aaa@aaa.com),\n",
       " User (username: mikki, name: Mikle St, email: mike@mail.com)]"
      ]
     },
     "execution_count": 11,
     "metadata": {},
     "output_type": "execute_result"
    }
   ],
   "source": [
    "database.list_all()"
   ]
  },
  {
   "cell_type": "code",
   "execution_count": 12,
   "metadata": {},
   "outputs": [],
   "source": [
    "database.insert(astr)"
   ]
  },
  {
   "cell_type": "code",
   "execution_count": 13,
   "metadata": {},
   "outputs": [
    {
     "data": {
      "text/plain": [
       "[User (username: astr, name: Aaron Ku, email: a@mail.com),\n",
       " User (username: josh, name: Josh Wa, email: jo@mail.com),\n",
       " User (username: kiki, name: Al Al, email: aaa@aaa.com),\n",
       " User (username: mikki, name: Mikle St, email: mike@mail.com)]"
      ]
     },
     "execution_count": 13,
     "metadata": {},
     "output_type": "execute_result"
    }
   ],
   "source": [
    "database.list_all()"
   ]
  },
  {
   "cell_type": "markdown",
   "metadata": {},
   "source": [
    "## Question 2"
   ]
  },
  {
   "cell_type": "markdown",
   "metadata": {},
   "source": [
    "Implement a binary tree using Python, and show its usage with some examples"
   ]
  },
  {
   "cell_type": "code",
   "execution_count": 14,
   "metadata": {},
   "outputs": [],
   "source": [
    "class TreeNode:\n",
    "    def __init__(self, key):\n",
    "        self.key = key\n",
    "        self.left = None\n",
    "        self.right = None"
   ]
  },
  {
   "cell_type": "code",
   "execution_count": 15,
   "metadata": {},
   "outputs": [],
   "source": [
    "node0 = TreeNode(3)\n",
    "node1 = TreeNode(4)\n",
    "node2 = TreeNode(5)"
   ]
  },
  {
   "cell_type": "code",
   "execution_count": 16,
   "metadata": {},
   "outputs": [
    {
     "data": {
      "text/plain": [
       "3"
      ]
     },
     "execution_count": 16,
     "metadata": {},
     "output_type": "execute_result"
    }
   ],
   "source": [
    "node0.key"
   ]
  },
  {
   "cell_type": "code",
   "execution_count": 17,
   "metadata": {},
   "outputs": [],
   "source": [
    "node0.left = node1\n",
    "node0.right = node2"
   ]
  },
  {
   "cell_type": "code",
   "execution_count": 18,
   "metadata": {},
   "outputs": [],
   "source": [
    "tree = node0"
   ]
  },
  {
   "cell_type": "code",
   "execution_count": 19,
   "metadata": {},
   "outputs": [
    {
     "data": {
      "text/plain": [
       "3"
      ]
     },
     "execution_count": 19,
     "metadata": {},
     "output_type": "execute_result"
    }
   ],
   "source": [
    "tree.key"
   ]
  },
  {
   "cell_type": "code",
   "execution_count": 20,
   "metadata": {},
   "outputs": [
    {
     "data": {
      "text/plain": [
       "4"
      ]
     },
     "execution_count": 20,
     "metadata": {},
     "output_type": "execute_result"
    }
   ],
   "source": [
    "tree.left.key"
   ]
  },
  {
   "cell_type": "markdown",
   "metadata": {},
   "source": [
    "## Exercise"
   ]
  },
  {
   "cell_type": "markdown",
   "metadata": {},
   "source": [
    "Create the following binary tree using the class __TreeNode__ defined above."
   ]
  },
  {
   "attachments": {
    "Binary_Tree_Exercise.jpg": {
     "image/jpeg": "[encoded data removed]"
    }
   },
   "cell_type": "markdown",
   "metadata": {},
   "source": [
    "![Binary_Tree_Exercise.jpg](attachment:Binary_Tree_Exercise.jpg)"
   ]
  },
  {
   "cell_type": "code",
   "execution_count": 21,
   "metadata": {},
   "outputs": [],
   "source": [
    "tree_tuple = ((1, 3, None), 2, ((None, 3, 4), 5, (6, 7, 8)))"
   ]
  },
  {
   "cell_type": "code",
   "execution_count": 22,
   "metadata": {},
   "outputs": [],
   "source": [
    "def parse_tuple(data):\n",
    "\n",
    "    if isinstance(data, tuple) and len(data) == 3:\n",
    "        node = TreeNode(data[1])\n",
    "        node.left = parse_tuple(data[0])\n",
    "        node.right = parse_tuple(data[2])\n",
    "    elif data == None:\n",
    "        node = None\n",
    "    else:\n",
    "        node = TreeNode(data)\n",
    "    return node"
   ]
  },
  {
   "cell_type": "code",
   "execution_count": 23,
   "metadata": {},
   "outputs": [],
   "source": [
    "tree2 = parse_tuple(tree_tuple)"
   ]
  },
  {
   "cell_type": "code",
   "execution_count": 24,
   "metadata": {},
   "outputs": [
    {
     "data": {
      "text/plain": [
       "2"
      ]
     },
     "execution_count": 24,
     "metadata": {},
     "output_type": "execute_result"
    }
   ],
   "source": [
    "tree2.key"
   ]
  },
  {
   "cell_type": "code",
   "execution_count": 25,
   "metadata": {},
   "outputs": [
    {
     "data": {
      "text/plain": [
       "(3, 5)"
      ]
     },
     "execution_count": 25,
     "metadata": {},
     "output_type": "execute_result"
    }
   ],
   "source": [
    "tree2.left.key, tree2.right.key"
   ]
  },
  {
   "cell_type": "markdown",
   "metadata": {},
   "source": [
    "## Exercise"
   ]
  },
  {
   "cell_type": "markdown",
   "metadata": {},
   "source": [
    "Develop a function that converts node into tuple"
   ]
  },
  {
   "cell_type": "code",
   "execution_count": 26,
   "metadata": {},
   "outputs": [],
   "source": [
    "def tree_to_tuple(node):\n",
    "\n",
    "    if node is None:\n",
    "        return None\n",
    "    \n",
    "    tup = (tree_to_tuple(node.left), node.key, tree_to_tuple(node.right))\n",
    "\n",
    "    return tup"
   ]
  },
  {
   "cell_type": "code",
   "execution_count": 27,
   "metadata": {},
   "outputs": [
    {
     "data": {
      "text/plain": [
       "(((None, 1, None), 3, None),\n",
       " 2,\n",
       " ((None, 3, (None, 4, None)), 5, ((None, 6, None), 7, (None, 8, None))))"
      ]
     },
     "execution_count": 27,
     "metadata": {},
     "output_type": "execute_result"
    }
   ],
   "source": [
    "result = tree_to_tuple(tree2)\n",
    "result\n"
   ]
  },
  {
   "cell_type": "markdown",
   "metadata": {},
   "source": [
    "Function to visualize a tree:"
   ]
  },
  {
   "cell_type": "code",
   "execution_count": 28,
   "metadata": {},
   "outputs": [],
   "source": [
    "def display_keys(node, space='\\t', level=0):\n",
    "\n",
    "    if node == None:\n",
    "        print(space*level + \"x\")\n",
    "        return\n",
    "    \n",
    "    if node.left == None and node.right == None:\n",
    "        print(space*level + str(node.key))\n",
    "        return\n",
    "    \n",
    "    display_keys(node.right, space, level + 1)\n",
    "    print(space*level + str(node.key))\n",
    "    display_keys(node.left, space, level + 1)\n"
   ]
  },
  {
   "cell_type": "code",
   "execution_count": 29,
   "metadata": {},
   "outputs": [
    {
     "name": "stdout",
     "output_type": "stream",
     "text": [
      "\t\t\t8\n",
      "\t\t7\n",
      "\t\t\t6\n",
      "\t5\n",
      "\t\t\t4\n",
      "\t\t3\n",
      "\t\t\tx\n",
      "2\n",
      "\t\tx\n",
      "\t3\n",
      "\t\t1\n"
     ]
    }
   ],
   "source": [
    "result = display_keys(tree2)"
   ]
  },
  {
   "cell_type": "markdown",
   "metadata": {},
   "source": [
    "# Traversing a binary tree"
   ]
  },
  {
   "cell_type": "markdown",
   "metadata": {},
   "source": [
    "## Question"
   ]
  },
  {
   "cell_type": "markdown",
   "metadata": {},
   "source": [
    "Write a function to perform the _inorder_ traversal of a binary tree"
   ]
  },
  {
   "cell_type": "markdown",
   "metadata": {},
   "source": [
    "A _traversal_ refers to the process of visiting each node of a tree exactly once. Visiting a node generally refers to adding th node's key to a list. There are three ways to traverse a binary tree and return the list of visited keys:"
   ]
  },
  {
   "cell_type": "markdown",
   "metadata": {},
   "source": [
    "### Inorder traversal"
   ]
  },
  {
   "cell_type": "markdown",
   "metadata": {},
   "source": [
    "1. Traverse the left subtree recursively inorder\n",
    "2. Traverse the current node\n",
    "3. Traverse the right subtree recursively inorder"
   ]
  },
  {
   "attachments": {
    "Inorder_Traversal.jpg": {
     "image/jpeg": "[encoded data removed]"
    }
   },
   "cell_type": "markdown",
   "metadata": {},
   "source": [
    "![Inorder_Traversal.jpg](attachment:Inorder_Traversal.jpg)"
   ]
  },
  {
   "cell_type": "markdown",
   "metadata": {},
   "source": [
    "### Preorder traversal"
   ]
  },
  {
   "cell_type": "markdown",
   "metadata": {},
   "source": [
    "1. Traverse the current node\n",
    "2. Traverse the left tree recursively preorder\n",
    "3. Traverse the right tree recursively preorder"
   ]
  },
  {
   "attachments": {
    "Preorder_Traversal.jpg": {
     "image/jpeg": "[encoded data removed]"
    }
   },
   "cell_type": "markdown",
   "metadata": {},
   "source": [
    "![Preorder_Traversal.jpg](attachment:Preorder_Traversal.jpg)"
   ]
  },
  {
   "cell_type": "markdown",
   "metadata": {},
   "source": [
    "Here is an implementation of __inorder traversal__"
   ]
  },
  {
   "cell_type": "code",
   "execution_count": 30,
   "metadata": {},
   "outputs": [],
   "source": [
    "def traversal_inorder(node):\n",
    "    if node == None:\n",
    "        return []\n",
    "    return (traversal_inorder(node.left) + [node.key] + traversal_inorder(node.right))"
   ]
  },
  {
   "cell_type": "code",
   "execution_count": 31,
   "metadata": {},
   "outputs": [
    {
     "data": {
      "text/plain": [
       "[1, 3, 2, 3, 4, 5, 6, 7, 8]"
      ]
     },
     "execution_count": 31,
     "metadata": {},
     "output_type": "execute_result"
    }
   ],
   "source": [
    "traversal_inorder(tree2)"
   ]
  },
  {
   "cell_type": "markdown",
   "metadata": {},
   "source": [
    "Here is the implementation of __preorder traversal__."
   ]
  },
  {
   "cell_type": "code",
   "execution_count": 32,
   "metadata": {},
   "outputs": [],
   "source": [
    "def traversal_preorder(node):\n",
    "    if node == None:\n",
    "        return []\n",
    "    return ([node.key] + traversal_preorder(node.left) + traversal_preorder(node.right))"
   ]
  },
  {
   "cell_type": "code",
   "execution_count": 33,
   "metadata": {},
   "outputs": [
    {
     "data": {
      "text/plain": [
       "[2, 3, 1, 5, 3, 4, 7, 6, 8]"
      ]
     },
     "execution_count": 33,
     "metadata": {},
     "output_type": "execute_result"
    }
   ],
   "source": [
    "traversal_preorder(tree2)"
   ]
  },
  {
   "cell_type": "markdown",
   "metadata": {},
   "source": [
    "Here is the implementation of __postorder traversal__"
   ]
  },
  {
   "cell_type": "code",
   "execution_count": 34,
   "metadata": {},
   "outputs": [],
   "source": [
    "def traversal_postorder(node):\n",
    "    if node == None:\n",
    "        return []\n",
    "    return (traversal_postorder(node.left) + traversal_postorder(node.right) + [node.key])"
   ]
  },
  {
   "cell_type": "code",
   "execution_count": 35,
   "metadata": {},
   "outputs": [
    {
     "data": {
      "text/plain": [
       "[1, 3, 4, 3, 6, 8, 7, 5, 2]"
      ]
     },
     "execution_count": 35,
     "metadata": {},
     "output_type": "execute_result"
    }
   ],
   "source": [
    "traversal_postorder(tree2)"
   ]
  },
  {
   "cell_type": "markdown",
   "metadata": {},
   "source": [
    "# Height and Size of a Binary Tree"
   ]
  },
  {
   "cell_type": "markdown",
   "metadata": {},
   "source": [
    "## Question"
   ]
  },
  {
   "cell_type": "markdown",
   "metadata": {},
   "source": [
    "Write a function to calculate the height/depth of a binary tree"
   ]
  },
  {
   "cell_type": "markdown",
   "metadata": {},
   "source": [
    "Write a function to count the number of nodes of a binary tree"
   ]
  },
  {
   "cell_type": "code",
   "execution_count": 36,
   "metadata": {},
   "outputs": [],
   "source": [
    "def tree_height(node):\n",
    "    if node == None:\n",
    "        return 0\n",
    "    return 1 + max(tree_height(node.left), tree_height(node.right))"
   ]
  },
  {
   "cell_type": "code",
   "execution_count": 37,
   "metadata": {},
   "outputs": [
    {
     "data": {
      "text/plain": [
       "4"
      ]
     },
     "execution_count": 37,
     "metadata": {},
     "output_type": "execute_result"
    }
   ],
   "source": [
    "tree_height(tree2)"
   ]
  },
  {
   "cell_type": "code",
   "execution_count": 38,
   "metadata": {},
   "outputs": [],
   "source": [
    "def tree_size(node):\n",
    "    if node is None:\n",
    "        return 0\n",
    "    return 1 + tree_size(node.left) + tree_size(node.right)"
   ]
  },
  {
   "cell_type": "code",
   "execution_count": 39,
   "metadata": {},
   "outputs": [
    {
     "data": {
      "text/plain": [
       "9"
      ]
     },
     "execution_count": 39,
     "metadata": {},
     "output_type": "execute_result"
    }
   ],
   "source": [
    "tree_size(tree2)"
   ]
  },
  {
   "cell_type": "markdown",
   "metadata": {},
   "source": [
    "## Binary Search Tree (BST)"
   ]
  },
  {
   "cell_type": "markdown",
   "metadata": {},
   "source": [
    "A __binary search tree__ is a tree that satisfies following conditions:\n",
    "1. The left subtree of any node only contains nodes with keys less than the node's key\n",
    "2. The right subtree of any node only contains nodes with keys greater than the node's key"
   ]
  },
  {
   "cell_type": "markdown",
   "metadata": {},
   "source": [
    "### Exercise"
   ]
  },
  {
   "cell_type": "markdown",
   "metadata": {},
   "source": [
    "Write a function to check if a binary tree is a binary search tree (BST)"
   ]
  },
  {
   "cell_type": "code",
   "execution_count": 40,
   "metadata": {},
   "outputs": [],
   "source": [
    "def remove_none(nums):\n",
    "    return [x for x in nums if x is not None]\n",
    "\n",
    "def is_bst(node):\n",
    "    if node is None:\n",
    "        return True, None, None\n",
    "    \n",
    "    bst_l, min_l, max_l = is_bst(node.left)\n",
    "    bst_r, min_r, max_r = is_bst(node.right)\n",
    "\n",
    "    is_bst_node = (bst_l and bst_r and (max_l is None or max_l < node.key) and (min_r is None or min_r > node.key))\n",
    "\n",
    "    min_node = min(remove_none([min_r, node.key, min_l]))\n",
    "    max_node = max(remove_none([max_l, node.key, max_r]))\n",
    "\n",
    "    return is_bst_node, min_node, max_node"
   ]
  },
  {
   "cell_type": "code",
   "execution_count": 41,
   "metadata": {},
   "outputs": [
    {
     "data": {
      "text/plain": [
       "(False, 1, 8)"
      ]
     },
     "execution_count": 41,
     "metadata": {},
     "output_type": "execute_result"
    }
   ],
   "source": [
    "is_bst(tree2)"
   ]
  },
  {
   "cell_type": "code",
   "execution_count": 45,
   "metadata": {},
   "outputs": [],
   "source": [
    "class BSTNode:\n",
    "    def __init__(self, key, value=None):\n",
    "        self.key = key\n",
    "        self.value = value\n",
    "        self.left = None\n",
    "        self.right = None\n",
    "        self.parent = None"
   ]
  },
  {
   "cell_type": "code",
   "execution_count": 46,
   "metadata": {},
   "outputs": [],
   "source": [
    "tree = BSTNode(josh.username, josh)"
   ]
  },
  {
   "cell_type": "code",
   "execution_count": 48,
   "metadata": {},
   "outputs": [
    {
     "data": {
      "text/plain": [
       "('josh', User (username: josh, name: Josh Wa, email: jo@mail.com))"
      ]
     },
     "execution_count": 48,
     "metadata": {},
     "output_type": "execute_result"
    }
   ],
   "source": [
    "tree.key, tree.value"
   ]
  },
  {
   "cell_type": "code",
   "execution_count": 49,
   "metadata": {},
   "outputs": [],
   "source": [
    "tree.left = BSTNode(mikki.username, mikki)\n",
    "tree.left.parent = tree\n",
    "tree.right = BSTNode(kiki.username, kiki)\n",
    "tree.right.parent = tree"
   ]
  },
  {
   "cell_type": "code",
   "execution_count": 57,
   "metadata": {},
   "outputs": [],
   "source": [
    "tree.left.left = BSTNode(ceee.username, ceee)\n",
    "tree.left.left.parent = tree.left\n",
    "tree.left.right = BSTNode(yter.username, yter)\n",
    "tree.left.right.parent = tree.left"
   ]
  },
  {
   "cell_type": "code",
   "execution_count": 59,
   "metadata": {},
   "outputs": [],
   "source": [
    "tree.right.left = BSTNode(astr.username, astr)\n",
    "tree.right.left.parent = tree.right\n",
    "tree.right.right = BSTNode(jjjj.username, jjjj)\n",
    "tree.right.right.parent = tree.right"
   ]
  },
  {
   "cell_type": "code",
   "execution_count": 60,
   "metadata": {},
   "outputs": [
    {
     "name": "stdout",
     "output_type": "stream",
     "text": [
      "\t\tjjjj\n",
      "\tkiki\n",
      "\t\tastr\n",
      "josh\n",
      "\t\tyter\n",
      "\tmikki\n",
      "\t\tceee\n"
     ]
    }
   ],
   "source": [
    "display_keys(tree)"
   ]
  },
  {
   "cell_type": "markdown",
   "metadata": {},
   "source": [
    "### Exercise"
   ]
  },
  {
   "cell_type": "markdown",
   "metadata": {},
   "source": [
    "Write a function to insert a new node into a BST"
   ]
  },
  {
   "cell_type": "code",
   "execution_count": 61,
   "metadata": {},
   "outputs": [],
   "source": [
    "def insert(node, key, value):\n",
    "    if node is None:\n",
    "        node = BSTNode(key, value)\n",
    "    elif key < node.key:\n",
    "        node.left = insert(node.left, key, value)\n",
    "        node.left.parent = node\n",
    "    elif key > node.key:\n",
    "        node.right = insert(node.right, key, value)\n",
    "        node.right.parent = node\n",
    "    return node"
   ]
  },
  {
   "cell_type": "code",
   "execution_count": 62,
   "metadata": {},
   "outputs": [],
   "source": [
    "tree = insert(None, josh.username, josh)"
   ]
  },
  {
   "cell_type": "code",
   "execution_count": null,
   "metadata": {},
   "outputs": [],
   "source": [
    "# josh = User(\"josh\", \"Josh Wa\", \"jo@mail.com\")\n",
    "# mikki = User(\"mikki\", \"Mikle St\", 'mike@mail.com')\n",
    "# kiki = User(\"kiki\", \"Kyle But\", \"bhg@mail.com\")\n",
    "# ceee = User(\"ceee\", \"Guf Kjf\", \"ce@mail.com\")\n",
    "# yter = User(\"yter\", \"Haj Ljsd\", \"yt@mail.com\")\n",
    "# astr = User(\"astr\", \"Aaron Ku\", \"a@mail.com\")\n",
    "# jjjj = User(\"jjjj\", \"Ilcher Uuu\", \"ilcher@mail.com\")"
   ]
  },
  {
   "cell_type": "code",
   "execution_count": 64,
   "metadata": {},
   "outputs": [
    {
     "data": {
      "text/plain": [
       "<__main__.BSTNode at 0x177f4b00d90>"
      ]
     },
     "execution_count": 64,
     "metadata": {},
     "output_type": "execute_result"
    }
   ],
   "source": [
    "insert(tree, mikki.username, mikki)\n",
    "insert(tree, kiki.username, kiki)\n",
    "insert(tree, ceee.username, ceee)\n",
    "insert(tree, yter.username, yter)\n",
    "insert(tree, astr.username, astr)\n",
    "insert(tree, jjjj.username, jjjj)"
   ]
  },
  {
   "cell_type": "code",
   "execution_count": 65,
   "metadata": {},
   "outputs": [
    {
     "name": "stdout",
     "output_type": "stream",
     "text": [
      "\t\tyter\n",
      "\tmikki\n",
      "\t\tkiki\n",
      "josh\n",
      "\t\tjjjj\n",
      "\tceee\n",
      "\t\tastr\n"
     ]
    }
   ],
   "source": [
    "display_keys(tree)"
   ]
  },
  {
   "cell_type": "markdown",
   "metadata": {},
   "source": [
    "Let us write function called _find_ to search for a person in a tree"
   ]
  },
  {
   "cell_type": "code",
   "execution_count": 66,
   "metadata": {},
   "outputs": [],
   "source": [
    "def find(node, key):\n",
    "    if node is None:\n",
    "        return None\n",
    "    if key == node.key:\n",
    "        return node\n",
    "    if key < node.key:\n",
    "        return find(node.left, key)\n",
    "    if key > node.key:\n",
    "        return find(node.right, key)"
   ]
  },
  {
   "cell_type": "code",
   "execution_count": 74,
   "metadata": {},
   "outputs": [
    {
     "name": "stdout",
     "output_type": "stream",
     "text": [
      "None\n"
     ]
    }
   ],
   "source": [
    "res = find(tree, 'jjj')\n",
    "print(res)\n"
   ]
  },
  {
   "cell_type": "markdown",
   "metadata": {},
   "source": [
    "### Exercise"
   ]
  },
  {
   "cell_type": "markdown",
   "metadata": {},
   "source": [
    "Write a function to update the value associated with a given key within a BST"
   ]
  },
  {
   "cell_type": "code",
   "execution_count": 75,
   "metadata": {},
   "outputs": [],
   "source": [
    "def update(node, key, value):\n",
    "    target = find(node, key)\n",
    "    if target is not None:\n",
    "        target.value = value"
   ]
  },
  {
   "cell_type": "code",
   "execution_count": 76,
   "metadata": {},
   "outputs": [],
   "source": [
    "update(tree, 'jjjj', User('none', 'none', 'none'))"
   ]
  },
  {
   "cell_type": "markdown",
   "metadata": {},
   "source": [
    "### Exercise"
   ]
  },
  {
   "cell_type": "markdown",
   "metadata": {},
   "source": [
    "Write a function to retrieve all the key-values pairs stored in a BST in the sorted order of keys"
   ]
  },
  {
   "cell_type": "code",
   "execution_count": 80,
   "metadata": {},
   "outputs": [],
   "source": [
    "def list_all(node):\n",
    "    if node is None:\n",
    "        return []\n",
    "    return list_all(node.left) + [node.key, node.value] + list_all(node.right)"
   ]
  },
  {
   "cell_type": "code",
   "execution_count": 81,
   "metadata": {},
   "outputs": [
    {
     "data": {
      "text/plain": [
       "['astr',\n",
       " User (username: astr, name: Aaron Ku, email: a@mail.com),\n",
       " 'ceee',\n",
       " User (username: ceee, name: Guf Kjf, email: ce@mail.com),\n",
       " 'jjjj',\n",
       " User (username: none, name: none, email: none),\n",
       " 'josh',\n",
       " User (username: josh, name: Josh Wa, email: jo@mail.com),\n",
       " 'kiki',\n",
       " User (username: kiki, name: Al Al, email: aaa@aaa.com),\n",
       " 'mikki',\n",
       " User (username: mikki, name: Mikle St, email: mike@mail.com),\n",
       " 'yter',\n",
       " User (username: yter, name: Haj Ljsd, email: yt@mail.com)]"
      ]
     },
     "execution_count": 81,
     "metadata": {},
     "output_type": "execute_result"
    }
   ],
   "source": [
    "list_all(tree)"
   ]
  },
  {
   "cell_type": "markdown",
   "metadata": {},
   "source": [
    "## Balanced Binary Trees"
   ]
  },
  {
   "cell_type": "markdown",
   "metadata": {},
   "source": [
    "### Exercise"
   ]
  },
  {
   "cell_type": "markdown",
   "metadata": {},
   "source": [
    "Write a function to determine whether a binary tree is balanced"
   ]
  },
  {
   "cell_type": "markdown",
   "metadata": {},
   "source": [
    "Here is a ecursive startegy:\n",
    "1. Ensure that the left subtree is balanced\n",
    "2. Ensure that the right subtree is balanced\n",
    "3. Ensure that the difference between the heights of the left and the right subtrees is not higher than 1"
   ]
  },
  {
   "cell_type": "code",
   "execution_count": 84,
   "metadata": {},
   "outputs": [],
   "source": [
    "def is_balanced(node):\n",
    "    if node is None:\n",
    "        return True, 0\n",
    "    balanced_l, height_l = is_balanced(node.left)\n",
    "    balanced_r, height_r = is_balanced(node.right)\n",
    "\n",
    "    balanced = balanced_l and balanced_r and abs(height_r - height_l) <= 1\n",
    "    height = 1 + max(height_l, height_r)\n",
    "\n",
    "    return balanced, height"
   ]
  },
  {
   "cell_type": "code",
   "execution_count": 85,
   "metadata": {},
   "outputs": [
    {
     "data": {
      "text/plain": [
       "(True, 3)"
      ]
     },
     "execution_count": 85,
     "metadata": {},
     "output_type": "execute_result"
    }
   ],
   "source": [
    "is_balanced(tree)"
   ]
  },
  {
   "cell_type": "code",
   "execution_count": 86,
   "metadata": {},
   "outputs": [
    {
     "data": {
      "text/plain": [
       "(True, 4)"
      ]
     },
     "execution_count": 86,
     "metadata": {},
     "output_type": "execute_result"
    }
   ],
   "source": [
    "is_balanced(tree2)"
   ]
  },
  {
   "cell_type": "markdown",
   "metadata": {},
   "source": [
    "## Balanced Binary Search Trees"
   ]
  },
  {
   "cell_type": "markdown",
   "metadata": {},
   "source": [
    "### Exercise"
   ]
  },
  {
   "cell_type": "markdown",
   "metadata": {},
   "source": [
    "Writ a function to create a balanced BST from a sorted list/array of key/value pairs"
   ]
  },
  {
   "cell_type": "code",
   "execution_count": 88,
   "metadata": {},
   "outputs": [],
   "source": [
    "def make_balanced_tree(data, low = 0, high=None, parent=None):\n",
    "    if high is None:\n",
    "        high = len(data) - 1\n",
    "    \n",
    "    if low > high:\n",
    "        return None\n",
    "\n",
    "    mid = (low + high) // 2\n",
    "\n",
    "    key, value = data[mid]\n",
    "\n",
    "    root = BSTNode(key, value)\n",
    "    root.parent = parent\n",
    "    root.left = make_balanced_tree(data, low, mid-1, root)\n",
    "    \n",
    "    root.right = make_balanced_tree(data, mid+1, high, root)\n",
    "\n",
    "    return root"
   ]
  },
  {
   "cell_type": "markdown",
   "metadata": {},
   "source": [
    "### Exercise"
   ]
  },
  {
   "cell_type": "markdown",
   "metadata": {},
   "source": [
    "Balance an unbalanced tree"
   ]
  },
  {
   "cell_type": "code",
   "execution_count": 93,
   "metadata": {},
   "outputs": [],
   "source": [
    "def balance_unbalanced(node):\n",
    "    return make_balanced_tree(list_all(node))"
   ]
  },
  {
   "cell_type": "code",
   "execution_count": 96,
   "metadata": {},
   "outputs": [],
   "source": [
    "tree1 = None\n",
    "\n",
    "for user in users:\n",
    "    tree1 = insert(tree1, user.username, user)"
   ]
  },
  {
   "cell_type": "code",
   "execution_count": 98,
   "metadata": {},
   "outputs": [
    {
     "ename": "ValueError",
     "evalue": "too many values to unpack (expected 2)",
     "output_type": "error",
     "traceback": [
      "\u001b[1;31m---------------------------------------------------------------------------\u001b[0m",
      "\u001b[1;31mValueError\u001b[0m                                Traceback (most recent call last)",
      "\u001b[1;32mc:\\Users\\Userpc\\Desktop\\Projects\\Algorithms\\Binary_Search_Trees.ipynb Cell 113\u001b[0m line \u001b[0;36m1\n\u001b[1;32m----> <a href='vscode-notebook-cell:/c%3A/Users/Userpc/Desktop/Projects/Algorithms/Binary_Search_Trees.ipynb#Y231sZmlsZQ%3D%3D?line=0'>1</a>\u001b[0m tree3 \u001b[39m=\u001b[39m balance_unbalanced(tree1)\n",
      "\u001b[1;32mc:\\Users\\Userpc\\Desktop\\Projects\\Algorithms\\Binary_Search_Trees.ipynb Cell 113\u001b[0m line \u001b[0;36m2\n\u001b[0;32m      <a href='vscode-notebook-cell:/c%3A/Users/Userpc/Desktop/Projects/Algorithms/Binary_Search_Trees.ipynb#Y231sZmlsZQ%3D%3D?line=0'>1</a>\u001b[0m \u001b[39mdef\u001b[39;00m \u001b[39mbalance_unbalanced\u001b[39m(node):\n\u001b[1;32m----> <a href='vscode-notebook-cell:/c%3A/Users/Userpc/Desktop/Projects/Algorithms/Binary_Search_Trees.ipynb#Y231sZmlsZQ%3D%3D?line=1'>2</a>\u001b[0m     \u001b[39mreturn\u001b[39;00m make_balanced_tree(list_all(node))\n",
      "\u001b[1;32mc:\\Users\\Userpc\\Desktop\\Projects\\Algorithms\\Binary_Search_Trees.ipynb Cell 113\u001b[0m line \u001b[0;36m1\n\u001b[0;32m      <a href='vscode-notebook-cell:/c%3A/Users/Userpc/Desktop/Projects/Algorithms/Binary_Search_Trees.ipynb#Y231sZmlsZQ%3D%3D?line=5'>6</a>\u001b[0m     \u001b[39mreturn\u001b[39;00m \u001b[39mNone\u001b[39;00m\n\u001b[0;32m      <a href='vscode-notebook-cell:/c%3A/Users/Userpc/Desktop/Projects/Algorithms/Binary_Search_Trees.ipynb#Y231sZmlsZQ%3D%3D?line=7'>8</a>\u001b[0m mid \u001b[39m=\u001b[39m (low \u001b[39m+\u001b[39m high) \u001b[39m/\u001b[39m\u001b[39m/\u001b[39m \u001b[39m2\u001b[39m\n\u001b[1;32m---> <a href='vscode-notebook-cell:/c%3A/Users/Userpc/Desktop/Projects/Algorithms/Binary_Search_Trees.ipynb#Y231sZmlsZQ%3D%3D?line=9'>10</a>\u001b[0m key, value \u001b[39m=\u001b[39m data[mid]\n\u001b[0;32m     <a href='vscode-notebook-cell:/c%3A/Users/Userpc/Desktop/Projects/Algorithms/Binary_Search_Trees.ipynb#Y231sZmlsZQ%3D%3D?line=11'>12</a>\u001b[0m root \u001b[39m=\u001b[39m BSTNode(key, value)\n\u001b[0;32m     <a href='vscode-notebook-cell:/c%3A/Users/Userpc/Desktop/Projects/Algorithms/Binary_Search_Trees.ipynb#Y231sZmlsZQ%3D%3D?line=12'>13</a>\u001b[0m root\u001b[39m.\u001b[39mparent \u001b[39m=\u001b[39m parent\n",
      "\u001b[1;31mValueError\u001b[0m: too many values to unpack (expected 2)"
     ]
    }
   ],
   "source": [
    "tree3 = balance_unbalanced(tree1)"
   ]
  }
 ],
 "metadata": {
  "kernelspec": {
   "display_name": "Python 3",
   "language": "python",
   "name": "python3"
  },
  "language_info": {
   "codemirror_mode": {
    "name": "ipython",
    "version": 3
   },
   "file_extension": ".py",
   "mimetype": "text/x-python",
   "name": "python",
   "nbconvert_exporter": "python",
   "pygments_lexer": "ipython3",
   "version": "3.11.4"
  },
  "orig_nbformat": 4
 },
 "nbformat": 4,
 "nbformat_minor": 2
}
